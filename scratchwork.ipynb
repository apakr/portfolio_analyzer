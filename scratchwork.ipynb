{
 "cells": [
  {
   "cell_type": "code",
   "execution_count": null,
   "metadata": {},
   "outputs": [
    {
     "name": "stdout",
     "output_type": "stream",
     "text": [
      "[*********************100%%**********************]  37 of 37 completed\n",
      "[*********************100%%**********************]  1 of 1 completed\n",
      "[*********************100%%**********************]  1 of 1 completed\n"
     ]
    }
   ],
   "source": [
    "import pandas as pd\n",
    "import yfinance as yf\n",
    "import numpy as np \n",
    "from scipy.stats import gmean\n",
    "\n",
    "# Start dates - edit as required\n",
    "start_date = \"2023-11-11\" # yyyy-mm-dd\n",
    "end_date = \"2024-11-11\"\n",
    "\n",
    "# Load original portfolio\n",
    "portf = pd.read_csv(\"fin456_portfolio_holdings_t0.csv\")\n",
    "\n",
    "# Load additional portfolio // optional, can be used to compare proposed changes.\n",
    "# additional_portf = pd.read_csv(\"fin456_portfolio_holdings_t1.csv\")\n",
    "\n",
    "def calculate_portfolio_metrics(portf):\n",
    "    # Separate cash and stock rows\n",
    "    cash_row = portf[portf['TICKER'] == 'USD']\n",
    "    stock_rows = portf[portf['TICKER'] != 'USD'].copy()  # Ensure this is a copy\n",
    "\n",
    "    # Fetch data for the tickers in the portfolio\n",
    "    tickers = stock_rows['TICKER'].tolist()\n",
    "    data = yf.download(tickers, start=start_date, end=end_date, interval=\"1mo\")['Adj Close']\n",
    "\n",
    "    # Calculate monthly returns\n",
    "    returns = data.pct_change().dropna()\n",
    "\n",
    "    # Calculate total investment in each stock\n",
    "    current_prices = data.iloc[-1]  # Last row gives the latest prices\n",
    "    stock_rows['Investment'] = stock_rows['QUANTITY'].values * current_prices.values\n",
    "\n",
    "    # Check if cash row is empty and handle accordingly\n",
    "    if not cash_row.empty:\n",
    "        cash_quantity = cash_row['QUANTITY'].iloc[0]\n",
    "    else:\n",
    "        cash_quantity = 0\n",
    "\n",
    "    # Add the cash row back for total investment\n",
    "    total_investment = stock_rows['Investment'].sum() + cash_quantity\n",
    "\n",
    "    # Calculate weights\n",
    "    stock_rows['Weight'] = stock_rows['Investment'] / total_investment\n",
    "\n",
    "    # Handle cash weight separately\n",
    "    cash_weight = cash_quantity / total_investment if cash_quantity > 0 else 0\n",
    "\n",
    "    # Calculate weighted monthly returns for the portfolio\n",
    "    weighted_returns = (returns * stock_rows.set_index('TICKER')['Weight']).sum(axis=1)\n",
    "\n",
    "    # Adjust weighted returns to include cash\n",
    "    weighted_returns = weighted_returns * (1 - cash_weight)\n",
    "\n",
    "    # Expected annual return\n",
    "    # expected_return = weighted_returns.mean() * 12 # using arithmetric mean\n",
    "    expected_return = (1+weighted_returns).prod()**(12/weighted_returns.size) - 1 # using geometric mean\n",
    "\n",
    "    # Portfolio variance and standard deviation (risk)\n",
    "    portfolio_variance = np.dot(stock_rows.set_index('TICKER')['Weight'].T, \n",
    "                                np.dot(returns.cov() * 12, \n",
    "                                       stock_rows.set_index('TICKER')['Weight']))\n",
    "    portfolio_variance *= (1 - cash_weight)**2  # Adjust for cash weight\n",
    "    portfolio_std_dev = np.sqrt(portfolio_variance)\n",
    "\n",
    "    return expected_return, portfolio_std_dev, weighted_returns, cash_weight\n",
    "\n",
    "# Function to calculate Beta and Sharpe Ratio\n",
    "def calculate_beta_sharpe(portfolio_returns, market_returns, risk_free_rate, portfolio_std_dev, expected_return):\n",
    "    aligned_portfolio_returns, aligned_market_returns = portfolio_returns.align(market_returns, join='inner')\n",
    "\n",
    "    # Ensure aligned_market_returns is a Series\n",
    "    if isinstance(aligned_market_returns, pd.DataFrame):\n",
    "        aligned_market_returns = aligned_market_returns.squeeze()  # Convert single-column DataFrame to Series\n",
    "\n",
    "    cov_matrix = np.cov(aligned_portfolio_returns, aligned_market_returns)\n",
    "\n",
    "    # Calculate beta\n",
    "    beta = cov_matrix[0, 1] / cov_matrix[1, 1]\n",
    "\n",
    "    # Sharpe Ratio\n",
    "    sharpe_ratio = (expected_return - risk_free_rate) / portfolio_std_dev\n",
    "    return beta, sharpe_ratio\n",
    "\n",
    "# Function to calculate the Alpha\n",
    "def calculate_alpha(portf_ret, risk_free_rate, beta, market_ret):\n",
    "    # Alpha = R - Rf - beta (Rm - Rf) ... R is the portf_ret, Rf is the risk_free_rate, beta is the systematic risk of the portfolio, Rm is the market return.\n",
    "    alpha = portf_ret - risk_free_rate - beta*(market_ret-risk_free_rate)\n",
    "    return alpha\n",
    "\n",
    "# Calculate metrics for original portfolio\n",
    "original_metrics = calculate_portfolio_metrics(portf)\n",
    "\n",
    "# # Download S&P 500 (or another market index) data\n",
    "market_data = yf.download('^GSPC', start=start_date, end=end_date, interval=\"1mo\")['Adj Close']\n",
    "\n",
    "# # Calculate market monthly returns\n",
    "market_returns = market_data.pct_change().dropna()\n",
    "\n",
    "# Fetch risk-free rate (10-Year Treasury Yield)\n",
    "risk_free_data = yf.download('^TNX', start=start_date, end=end_date, interval=\"1mo\")\n",
    "risk_free_rate = risk_free_data['Adj Close'].dropna().iloc[-1].item() / 100\n",
    "\n",
    "# Calculate Beta and Sharpe Ratio for both portfolios\n",
    "original_beta, original_sharpe = calculate_beta_sharpe(\n",
    "    original_metrics[2], market_returns, risk_free_rate, original_metrics[1], original_metrics[0]\n",
    ")\n",
    "\n",
    "# original_alpha = calculate_alpha()\n",
    "\n",
    "# Calculate metrics for additional portfolio # uncomment for additional portfolio\n",
    "# additional_metrics = calculate_portfolio_metrics(additional_portf)\n",
    "\n",
    "# additional_beta, additional_sharpe = calculate_beta_sharpe(  # uncomment for additional portfolio\n",
    "#     additional_metrics[2], market_returns, risk_free_rate, additional_metrics[1], additional_metrics[0]\n",
    "# )\n",
    "\n",
    "\n",
    "\n",
    "\n"
   ]
  },
  {
   "cell_type": "code",
   "execution_count": 7,
   "metadata": {},
   "outputs": [
    {
     "data": {
      "text/plain": [
       "(0.2095044315476844,\n",
       " 0.08070099446879557,\n",
       " Date\n",
       " 2024-01-01    0.006758\n",
       " 2024-02-01    0.037804\n",
       " 2024-03-01    0.036962\n",
       " 2024-04-01   -0.036994\n",
       " 2024-05-01    0.032165\n",
       " 2024-06-01    0.018229\n",
       " 2024-07-01    0.030247\n",
       " 2024-08-01    0.017712\n",
       " 2024-09-01    0.007633\n",
       " 2024-10-01   -0.009142\n",
       " 2024-11-01    0.037091\n",
       " dtype: float64,\n",
       " 0.01739506311183667)"
      ]
     },
     "execution_count": 7,
     "metadata": {},
     "output_type": "execute_result"
    }
   ],
   "source": [
    "original_metrics"
   ]
  },
  {
   "cell_type": "code",
   "execution_count": 10,
   "metadata": {},
   "outputs": [
    {
     "data": {
      "text/plain": [
       "Date\n",
       "2024-01-01    0.006758\n",
       "2024-02-01    0.037804\n",
       "2024-03-01    0.036962\n",
       "2024-04-01   -0.036994\n",
       "2024-05-01    0.032165\n",
       "2024-06-01    0.018229\n",
       "2024-07-01    0.030247\n",
       "2024-08-01    0.017712\n",
       "2024-09-01    0.007633\n",
       "2024-10-01   -0.009142\n",
       "2024-11-01    0.037091\n",
       "dtype: float64"
      ]
     },
     "execution_count": 10,
     "metadata": {},
     "output_type": "execute_result"
    }
   ],
   "source": [
    "aligned_portfolio_returns, aligned_market_returns = original_metrics[2].align(market_returns, join='inner')\n",
    "aligned_portfolio_returns"
   ]
  },
  {
   "cell_type": "code",
   "execution_count": 11,
   "metadata": {},
   "outputs": [
    {
     "data": {
      "text/plain": [
       "Date\n",
       "2024-01-01    0.015896\n",
       "2024-02-01    0.051721\n",
       "2024-03-01    0.031019\n",
       "2024-04-01   -0.041615\n",
       "2024-05-01    0.048021\n",
       "2024-06-01    0.034670\n",
       "2024-07-01    0.011321\n",
       "2024-08-01    0.022835\n",
       "2024-09-01    0.020197\n",
       "2024-10-01   -0.009897\n",
       "2024-11-01    0.037075\n",
       "Name: Adj Close, dtype: float64"
      ]
     },
     "execution_count": 11,
     "metadata": {},
     "output_type": "execute_result"
    }
   ],
   "source": [
    "aligned_market_returns"
   ]
  },
  {
   "cell_type": "code",
   "execution_count": 17,
   "metadata": {},
   "outputs": [],
   "source": [
    "# Function to calculate Beta and Sharpe Ratio\n",
    "def calculate_beta_sharpe(portfolio_returns, market_returns, risk_free_rate, portfolio_std_dev, expected_return):\n",
    "    aligned_portfolio_returns, aligned_market_returns = portfolio_returns.align(market_returns, join='inner')\n",
    "\n",
    "    # Ensure aligned_market_returns is a Series\n",
    "    if isinstance(aligned_market_returns, pd.DataFrame):\n",
    "        aligned_market_returns = aligned_market_returns.squeeze()  # Convert single-column DataFrame to Series\n",
    "\n",
    "    cov_matrix = np.cov(aligned_portfolio_returns, aligned_market_returns) # returns cov matrix of [[var(apr), cov(apr,amr)],[cov(amr,apr),var(amr)]]\n",
    "    print(cov_matrix)\n",
    "    # Calculate beta\n",
    "    beta = cov_matrix[0, 1] / cov_matrix[1, 1]\n",
    "\n",
    "    # Sharpe Ratio\n",
    "    sharpe_ratio = (expected_return - risk_free_rate) / portfolio_std_dev\n",
    "    return beta, sharpe_ratio"
   ]
  },
  {
   "cell_type": "code",
   "execution_count": 18,
   "metadata": {},
   "outputs": [
    {
     "name": "stdout",
     "output_type": "stream",
     "text": [
      "[[0.00054272 0.00057025]\n",
      " [0.00057025 0.00072099]]\n"
     ]
    }
   ],
   "source": [
    "# Calculate Beta and Sharpe Ratio for both portfolios\n",
    "original_beta, original_sharpe = calculate_beta_sharpe(\n",
    "    original_metrics[2], market_returns, risk_free_rate, original_metrics[1], original_metrics[0]\n",
    ")\n",
    "\n",
    "# original_alpha = calculate_alpha()"
   ]
  },
  {
   "cell_type": "code",
   "execution_count": 20,
   "metadata": {},
   "outputs": [
    {
     "data": {
      "text/plain": [
       "Date\n",
       "2024-01-01    0.015896\n",
       "2024-02-01    0.051721\n",
       "2024-03-01    0.031019\n",
       "2024-04-01   -0.041615\n",
       "2024-05-01    0.048021\n",
       "2024-06-01    0.034670\n",
       "2024-07-01    0.011321\n",
       "2024-08-01    0.022835\n",
       "2024-09-01    0.020197\n",
       "2024-10-01   -0.009897\n",
       "2024-11-01    0.037075\n",
       "Name: Adj Close, dtype: float64"
      ]
     },
     "execution_count": 20,
     "metadata": {},
     "output_type": "execute_result"
    }
   ],
   "source": [
    "market_returns"
   ]
  },
  {
   "cell_type": "code",
   "execution_count": 19,
   "metadata": {},
   "outputs": [
    {
     "data": {
      "text/plain": [
       "0.7909302802270889"
      ]
     },
     "execution_count": 19,
     "metadata": {},
     "output_type": "execute_result"
    }
   ],
   "source": [
    "original_beta"
   ]
  },
  {
   "cell_type": "code",
   "execution_count": 31,
   "metadata": {},
   "outputs": [
    {
     "data": {
      "text/plain": [
       "Date\n",
       "2024-01-01    0.006758\n",
       "2024-02-01    0.037804\n",
       "2024-03-01    0.036962\n",
       "2024-04-01   -0.036994\n",
       "2024-05-01    0.032165\n",
       "2024-06-01    0.018229\n",
       "2024-07-01    0.030247\n",
       "2024-08-01    0.017712\n",
       "2024-09-01    0.007633\n",
       "2024-10-01   -0.009142\n",
       "2024-11-01    0.037091\n",
       "dtype: float64"
      ]
     },
     "execution_count": 31,
     "metadata": {},
     "output_type": "execute_result"
    }
   ],
   "source": [
    "original_metrics[2]"
   ]
  },
  {
   "cell_type": "code",
   "execution_count": 26,
   "metadata": {},
   "outputs": [],
   "source": [
    "def get_exp_ret(ticker, start_date, end_date):\n",
    "\n",
    "    # Download S&P 500 (or another market index) data\n",
    "    market_data = yf.download(ticker, start=start_date, end=end_date, interval=\"1mo\")['Adj Close']\n",
    "\n",
    "    # Calculate market monthly returns\n",
    "    market_returns = market_data.pct_change().dropna()\n",
    "\n",
    "    expected_return = (1+market_returns).prod()**(12/market_returns.size) - 1 # using geometric mean\n",
    "\n",
    "    return expected_return\n"
   ]
  },
  {
   "cell_type": "code",
   "execution_count": 33,
   "metadata": {},
   "outputs": [
    {
     "name": "stdout",
     "output_type": "stream",
     "text": [
      "[*********************100%%**********************]  1 of 1 completed\n"
     ]
    }
   ],
   "source": [
    "market_ret = get_exp_ret('^GSPC',start_date,end_date)"
   ]
  },
  {
   "cell_type": "code",
   "execution_count": 35,
   "metadata": {},
   "outputs": [
    {
     "data": {
      "text/plain": [
       "-0.015539131756187458"
      ]
     },
     "execution_count": 35,
     "metadata": {},
     "output_type": "execute_result"
    }
   ],
   "source": [
    "original_alpha = calculate_alpha(original_metrics[0],risk_free_rate,original_beta,market_ret) \n",
    "original_alpha"
   ]
  }
 ],
 "metadata": {
  "kernelspec": {
   "display_name": "pydata-book",
   "language": "python",
   "name": "python3"
  },
  "language_info": {
   "codemirror_mode": {
    "name": "ipython",
    "version": 3
   },
   "file_extension": ".py",
   "mimetype": "text/x-python",
   "name": "python",
   "nbconvert_exporter": "python",
   "pygments_lexer": "ipython3",
   "version": "3.10.10"
  }
 },
 "nbformat": 4,
 "nbformat_minor": 2
}
