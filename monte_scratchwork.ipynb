{
 "cells": [
  {
   "cell_type": "code",
   "execution_count": 112,
   "metadata": {},
   "outputs": [],
   "source": [
    "import pandas as pd\n",
    "import analysis_functs as funct\n",
    "import numpy as np\n",
    "import yfinance as yf\n",
    "\n",
    "start_date = \"2023-11-16\" # hard coded dates for analysis\n",
    "end_date = \"2024-11-16\"\n",
    "\n",
    "portf = pd.read_csv(\"simple_portf.csv\")\n",
    "\n"
   ]
  },
  {
   "cell_type": "code",
   "execution_count": 113,
   "metadata": {},
   "outputs": [
    {
     "data": {
      "text/html": [
       "<div>\n",
       "<style scoped>\n",
       "    .dataframe tbody tr th:only-of-type {\n",
       "        vertical-align: middle;\n",
       "    }\n",
       "\n",
       "    .dataframe tbody tr th {\n",
       "        vertical-align: top;\n",
       "    }\n",
       "\n",
       "    .dataframe thead th {\n",
       "        text-align: right;\n",
       "    }\n",
       "</style>\n",
       "<table border=\"1\" class=\"dataframe\">\n",
       "  <thead>\n",
       "    <tr style=\"text-align: right;\">\n",
       "      <th></th>\n",
       "      <th>TICKER</th>\n",
       "      <th>QUANTITY</th>\n",
       "    </tr>\n",
       "  </thead>\n",
       "  <tbody>\n",
       "    <tr>\n",
       "      <th>0</th>\n",
       "      <td>JPM</td>\n",
       "      <td>10</td>\n",
       "    </tr>\n",
       "    <tr>\n",
       "      <th>1</th>\n",
       "      <td>GOOG</td>\n",
       "      <td>10</td>\n",
       "    </tr>\n",
       "    <tr>\n",
       "      <th>2</th>\n",
       "      <td>AMZN</td>\n",
       "      <td>10</td>\n",
       "    </tr>\n",
       "    <tr>\n",
       "      <th>3</th>\n",
       "      <td>STLA</td>\n",
       "      <td>10</td>\n",
       "    </tr>\n",
       "  </tbody>\n",
       "</table>\n",
       "</div>"
      ],
      "text/plain": [
       "  TICKER  QUANTITY\n",
       "0    JPM        10\n",
       "1   GOOG        10\n",
       "2   AMZN        10\n",
       "3   STLA        10"
      ]
     },
     "execution_count": 113,
     "metadata": {},
     "output_type": "execute_result"
    }
   ],
   "source": [
    "portf"
   ]
  },
  {
   "cell_type": "code",
   "execution_count": 114,
   "metadata": {},
   "outputs": [],
   "source": [
    "retdf = pd.DataFrame()"
   ]
  },
  {
   "cell_type": "code",
   "execution_count": 115,
   "metadata": {},
   "outputs": [
    {
     "name": "stderr",
     "output_type": "stream",
     "text": [
      "[*********************100%***********************]  1 of 1 completed"
     ]
    },
    {
     "name": "stderr",
     "output_type": "stream",
     "text": [
      "\n",
      "[*********************100%***********************]  1 of 1 completed\n",
      "[*********************100%***********************]  1 of 1 completed\n",
      "[*********************100%***********************]  1 of 1 completed\n"
     ]
    }
   ],
   "source": [
    "for tickers in portf.iloc[:,0]: # get price data for each stock in the original portf dataframe and also their normalized returns\n",
    "    retdf[tickers] = (yf.download(tickers, start=start_date, end=end_date, interval=\"5d\")['Adj Close'])\n",
    "    retdf[tickers + \" Normalized Return\"] = retdf[tickers]/retdf.iloc[0][tickers]"
   ]
  },
  {
   "cell_type": "code",
   "execution_count": 116,
   "metadata": {},
   "outputs": [],
   "source": [
    "og_alloc = []\n",
    "for ticker in portf.iloc[:,0]:\n",
    "    og_alloc.append(retdf.iloc[0][ticker])"
   ]
  },
  {
   "cell_type": "code",
   "execution_count": 117,
   "metadata": {},
   "outputs": [
    {
     "data": {
      "text/html": [
       "<div>\n",
       "<style scoped>\n",
       "    .dataframe tbody tr th:only-of-type {\n",
       "        vertical-align: middle;\n",
       "    }\n",
       "\n",
       "    .dataframe tbody tr th {\n",
       "        vertical-align: top;\n",
       "    }\n",
       "\n",
       "    .dataframe thead th {\n",
       "        text-align: right;\n",
       "    }\n",
       "</style>\n",
       "<table border=\"1\" class=\"dataframe\">\n",
       "  <thead>\n",
       "    <tr style=\"text-align: right;\">\n",
       "      <th></th>\n",
       "      <th>TICKER</th>\n",
       "      <th>QUANTITY</th>\n",
       "      <th>ORIGINAL_VALUE</th>\n",
       "    </tr>\n",
       "  </thead>\n",
       "  <tbody>\n",
       "    <tr>\n",
       "      <th>0</th>\n",
       "      <td>JPM</td>\n",
       "      <td>10</td>\n",
       "      <td>1479.178162</td>\n",
       "    </tr>\n",
       "    <tr>\n",
       "      <th>1</th>\n",
       "      <td>GOOG</td>\n",
       "      <td>10</td>\n",
       "      <td>1382.034149</td>\n",
       "    </tr>\n",
       "    <tr>\n",
       "      <th>2</th>\n",
       "      <td>AMZN</td>\n",
       "      <td>10</td>\n",
       "      <td>1428.300018</td>\n",
       "    </tr>\n",
       "    <tr>\n",
       "      <th>3</th>\n",
       "      <td>STLA</td>\n",
       "      <td>10</td>\n",
       "      <td>186.430168</td>\n",
       "    </tr>\n",
       "  </tbody>\n",
       "</table>\n",
       "</div>"
      ],
      "text/plain": [
       "  TICKER  QUANTITY  ORIGINAL_VALUE\n",
       "0    JPM        10     1479.178162\n",
       "1   GOOG        10     1382.034149\n",
       "2   AMZN        10     1428.300018\n",
       "3   STLA        10      186.430168"
      ]
     },
     "execution_count": 117,
     "metadata": {},
     "output_type": "execute_result"
    }
   ],
   "source": [
    "portf[\"ORIGINAL_VALUE\"] = portf[\"QUANTITY\"]*og_alloc\n",
    "portf"
   ]
  },
  {
   "cell_type": "code",
   "execution_count": 118,
   "metadata": {},
   "outputs": [
    {
     "data": {
      "text/html": [
       "<div>\n",
       "<style scoped>\n",
       "    .dataframe tbody tr th:only-of-type {\n",
       "        vertical-align: middle;\n",
       "    }\n",
       "\n",
       "    .dataframe tbody tr th {\n",
       "        vertical-align: top;\n",
       "    }\n",
       "\n",
       "    .dataframe thead th {\n",
       "        text-align: right;\n",
       "    }\n",
       "</style>\n",
       "<table border=\"1\" class=\"dataframe\">\n",
       "  <thead>\n",
       "    <tr style=\"text-align: right;\">\n",
       "      <th></th>\n",
       "      <th>TICKER</th>\n",
       "      <th>QUANTITY</th>\n",
       "      <th>ORIGINAL_VALUE</th>\n",
       "      <th>ALLOCATION</th>\n",
       "    </tr>\n",
       "  </thead>\n",
       "  <tbody>\n",
       "    <tr>\n",
       "      <th>0</th>\n",
       "      <td>JPM</td>\n",
       "      <td>10</td>\n",
       "      <td>1479.178162</td>\n",
       "      <td>0.330473</td>\n",
       "    </tr>\n",
       "    <tr>\n",
       "      <th>1</th>\n",
       "      <td>GOOG</td>\n",
       "      <td>10</td>\n",
       "      <td>1382.034149</td>\n",
       "      <td>0.308769</td>\n",
       "    </tr>\n",
       "    <tr>\n",
       "      <th>2</th>\n",
       "      <td>AMZN</td>\n",
       "      <td>10</td>\n",
       "      <td>1428.300018</td>\n",
       "      <td>0.319106</td>\n",
       "    </tr>\n",
       "    <tr>\n",
       "      <th>3</th>\n",
       "      <td>STLA</td>\n",
       "      <td>10</td>\n",
       "      <td>186.430168</td>\n",
       "      <td>0.041652</td>\n",
       "    </tr>\n",
       "  </tbody>\n",
       "</table>\n",
       "</div>"
      ],
      "text/plain": [
       "  TICKER  QUANTITY  ORIGINAL_VALUE  ALLOCATION\n",
       "0    JPM        10     1479.178162    0.330473\n",
       "1   GOOG        10     1382.034149    0.308769\n",
       "2   AMZN        10     1428.300018    0.319106\n",
       "3   STLA        10      186.430168    0.041652"
      ]
     },
     "execution_count": 118,
     "metadata": {},
     "output_type": "execute_result"
    }
   ],
   "source": [
    "portf[\"ALLOCATION\"] = portf[\"ORIGINAL_VALUE\"]/sum(portf[\"ORIGINAL_VALUE\"])\n",
    "portf"
   ]
  },
  {
   "cell_type": "code",
   "execution_count": 119,
   "metadata": {},
   "outputs": [
    {
     "data": {
      "text/plain": [
       "4475.942497253418"
      ]
     },
     "execution_count": 119,
     "metadata": {},
     "output_type": "execute_result"
    }
   ],
   "source": [
    "sum(portf[\"ORIGINAL_VALUE\"])"
   ]
  },
  {
   "cell_type": "code",
   "execution_count": 39,
   "metadata": {},
   "outputs": [
    {
     "data": {
      "text/html": [
       "<div>\n",
       "<style scoped>\n",
       "    .dataframe tbody tr th:only-of-type {\n",
       "        vertical-align: middle;\n",
       "    }\n",
       "\n",
       "    .dataframe tbody tr th {\n",
       "        vertical-align: top;\n",
       "    }\n",
       "\n",
       "    .dataframe thead th {\n",
       "        text-align: right;\n",
       "    }\n",
       "</style>\n",
       "<table border=\"1\" class=\"dataframe\">\n",
       "  <thead>\n",
       "    <tr style=\"text-align: right;\">\n",
       "      <th></th>\n",
       "      <th>JPM</th>\n",
       "      <th>JPM Normalized Return</th>\n",
       "      <th>GOOG</th>\n",
       "      <th>GOOG Normalized Return</th>\n",
       "      <th>AMZN</th>\n",
       "      <th>AMZN Normalized Return</th>\n",
       "      <th>STLA</th>\n",
       "      <th>STLA Normalized Return</th>\n",
       "    </tr>\n",
       "    <tr>\n",
       "      <th>Date</th>\n",
       "      <th></th>\n",
       "      <th></th>\n",
       "      <th></th>\n",
       "      <th></th>\n",
       "      <th></th>\n",
       "      <th></th>\n",
       "      <th></th>\n",
       "      <th></th>\n",
       "    </tr>\n",
       "  </thead>\n",
       "  <tbody>\n",
       "    <tr>\n",
       "      <th>2023-11-16</th>\n",
       "      <td>147.917816</td>\n",
       "      <td>1.000000</td>\n",
       "      <td>138.203415</td>\n",
       "      <td>1.000000</td>\n",
       "      <td>142.830002</td>\n",
       "      <td>1.000000</td>\n",
       "      <td>18.643017</td>\n",
       "      <td>1.000000</td>\n",
       "    </tr>\n",
       "    <tr>\n",
       "      <th>2023-11-21</th>\n",
       "      <td>149.402374</td>\n",
       "      <td>1.010036</td>\n",
       "      <td>138.123703</td>\n",
       "      <td>0.999423</td>\n",
       "      <td>143.899994</td>\n",
       "      <td>1.007491</td>\n",
       "      <td>18.886351</td>\n",
       "      <td>1.013052</td>\n",
       "    </tr>\n",
       "    <tr>\n",
       "      <th>2023-12-01</th>\n",
       "      <td>153.182114</td>\n",
       "      <td>1.035589</td>\n",
       "      <td>132.842697</td>\n",
       "      <td>0.961211</td>\n",
       "      <td>147.029999</td>\n",
       "      <td>1.029406</td>\n",
       "      <td>20.599037</td>\n",
       "      <td>1.104920</td>\n",
       "    </tr>\n",
       "    <tr>\n",
       "      <th>2023-12-06</th>\n",
       "      <td>152.664474</td>\n",
       "      <td>1.032090</td>\n",
       "      <td>130.959427</td>\n",
       "      <td>0.947585</td>\n",
       "      <td>144.520004</td>\n",
       "      <td>1.011832</td>\n",
       "      <td>21.095060</td>\n",
       "      <td>1.131526</td>\n",
       "    </tr>\n",
       "    <tr>\n",
       "      <th>2023-12-11</th>\n",
       "      <td>155.389420</td>\n",
       "      <td>1.050512</td>\n",
       "      <td>134.217728</td>\n",
       "      <td>0.971161</td>\n",
       "      <td>145.889999</td>\n",
       "      <td>1.021424</td>\n",
       "      <td>21.095060</td>\n",
       "      <td>1.131526</td>\n",
       "    </tr>\n",
       "  </tbody>\n",
       "</table>\n",
       "</div>"
      ],
      "text/plain": [
       "                   JPM  JPM Normalized Return        GOOG  \\\n",
       "Date                                                        \n",
       "2023-11-16  147.917816               1.000000  138.203415   \n",
       "2023-11-21  149.402374               1.010036  138.123703   \n",
       "2023-12-01  153.182114               1.035589  132.842697   \n",
       "2023-12-06  152.664474               1.032090  130.959427   \n",
       "2023-12-11  155.389420               1.050512  134.217728   \n",
       "\n",
       "            GOOG Normalized Return        AMZN  AMZN Normalized Return  \\\n",
       "Date                                                                     \n",
       "2023-11-16                1.000000  142.830002                1.000000   \n",
       "2023-11-21                0.999423  143.899994                1.007491   \n",
       "2023-12-01                0.961211  147.029999                1.029406   \n",
       "2023-12-06                0.947585  144.520004                1.011832   \n",
       "2023-12-11                0.971161  145.889999                1.021424   \n",
       "\n",
       "                 STLA  STLA Normalized Return  \n",
       "Date                                           \n",
       "2023-11-16  18.643017                1.000000  \n",
       "2023-11-21  18.886351                1.013052  \n",
       "2023-12-01  20.599037                1.104920  \n",
       "2023-12-06  21.095060                1.131526  \n",
       "2023-12-11  21.095060                1.131526  "
      ]
     },
     "execution_count": 39,
     "metadata": {},
     "output_type": "execute_result"
    }
   ],
   "source": [
    "retdf.head()"
   ]
  },
  {
   "cell_type": "code",
   "execution_count": 60,
   "metadata": {},
   "outputs": [
    {
     "data": {
      "text/plain": [
       "JPM                       147.917816\n",
       "JPM Normalized Return       1.000000\n",
       "GOOG                      138.203415\n",
       "GOOG Normalized Return      1.000000\n",
       "AMZN                      142.830002\n",
       "AMZN Normalized Return      1.000000\n",
       "STLA                       18.643017\n",
       "STLA Normalized Return      1.000000\n",
       "Name: 2023-11-16 00:00:00, dtype: float64"
      ]
     },
     "execution_count": 60,
     "metadata": {},
     "output_type": "execute_result"
    }
   ],
   "source": [
    "retdf.iloc[0]"
   ]
  },
  {
   "cell_type": "code",
   "execution_count": 72,
   "metadata": {},
   "outputs": [],
   "source": [
    "for ticker in portf.iloc[:,0]:\n",
    "    retdf.iloc[0][ticker]"
   ]
  },
  {
   "cell_type": "code",
   "execution_count": 79,
   "metadata": {},
   "outputs": [],
   "source": [
    "og_alloc = []\n",
    "for ticker in portf.iloc[:,0]:\n",
    "    og_alloc.append(retdf.iloc[0][ticker])"
   ]
  },
  {
   "cell_type": "code",
   "execution_count": 80,
   "metadata": {},
   "outputs": [
    {
     "data": {
      "text/plain": [
       "[np.float64(147.91781616210938),\n",
       " np.float64(138.2034149169922),\n",
       " np.float64(142.8300018310547),\n",
       " np.float64(18.643016815185547)]"
      ]
     },
     "execution_count": 80,
     "metadata": {},
     "output_type": "execute_result"
    }
   ],
   "source": [
    "og_alloc"
   ]
  }
 ],
 "metadata": {
  "kernelspec": {
   "display_name": "pydata-book",
   "language": "python",
   "name": "python3"
  },
  "language_info": {
   "codemirror_mode": {
    "name": "ipython",
    "version": 3
   },
   "file_extension": ".py",
   "mimetype": "text/x-python",
   "name": "python",
   "nbconvert_exporter": "python",
   "pygments_lexer": "ipython3",
   "version": "3.10.10"
  }
 },
 "nbformat": 4,
 "nbformat_minor": 2
}
