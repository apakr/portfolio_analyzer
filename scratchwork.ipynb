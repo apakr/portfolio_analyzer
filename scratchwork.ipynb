{
 "cells": [
  {
   "cell_type": "code",
   "execution_count": 21,
   "metadata": {},
   "outputs": [
    {
     "name": "stderr",
     "output_type": "stream",
     "text": [
      "[*********************100%***********************]  19 of 19 completed\n",
      "[*********************100%***********************]  1 of 1 completed\n",
      "[*********************100%***********************]  1 of 1 completed"
     ]
    },
    {
     "name": "stdout",
     "output_type": "stream",
     "text": [
      "Original Portfolio:\n",
      "Expected Return: -0.2681\n",
      "Portfolio Std Dev: 0.1346\n",
      "Beta: -2.0741\n",
      "Sharpe Ratio: -2.3108\n",
      "Alpha: -0.3841\n"
     ]
    },
    {
     "name": "stderr",
     "output_type": "stream",
     "text": [
      "\n"
     ]
    }
   ],
   "source": [
    "import pandas as pd # version 2.2.3\n",
    "import yfinance as yf # version 0.2.49\n",
    "import numpy as np # version 2.1.3\n",
    "import platform # platformdirs version 4.3.6\n",
    "from datetime import datetime, timedelta \n",
    "import pytz # version 2024.2\n",
    "import analysis_functs as funct\n",
    "import matplotlib.pyplot as plt # version 3.10.0\n",
    "\n",
    "# Get operating system\n",
    "os_name = platform.system()\n",
    "\n",
    "# Get current date \n",
    "current_date = datetime.now(pytz.timezone('America/Chicago'))\n",
    "\n",
    "# Analysis dates\n",
    "end_date = (current_date-timedelta(days=1)).strftime(\"%Y-%m-%d\") # yyyy-mm-dd\n",
    "start_date = (current_date-timedelta(days=1)).replace(year=current_date.year-1).strftime(\"%Y-%m-%d\") # accounts for leap years and also for yfinance issues with using day-of data\n",
    "# currently set to 1 year befored\n",
    "\n",
    "# Frequency\n",
    "freq = '1d'\n",
    "# 5m for 5 minutes, 1d for day, 1wk for week, 1mo for month, etc.\n",
    "\n",
    "# start_date = \"2023-11-16\" # hard coded dates for analysis\n",
    "# end_date = \"2024-11-16\"\n",
    "\n",
    "# Load original portfolio\n",
    "portf = pd.read_csv(\"portfolios/pmt_portfolio.csv\")\n",
    "\n",
    "# Calculate metrics for original portfolio\n",
    "original_metrics = funct.calculate_portfolio_metrics(portf, start_date, end_date)\n",
    "\n",
    "# # Download S&P 500 (or another market index) data\n",
    "market_data = yf.download('^GSPC', start=start_date, end=end_date, interval=freq)['Close']\n",
    "\n",
    "# Calculate market returns at specified frequency (monthly right now)\n",
    "market_returns = market_data.pct_change().dropna()\n",
    "\n",
    "# Calculate expected return value for the market\n",
    "market_ret = funct.calc_exp_ret(market_data)\n",
    "\n",
    "# Fetch risk-free rate (10-Year Treasury Yield)\n",
    "risk_free_data = yf.download('^TNX', start=start_date, end=end_date, interval=freq)\n",
    "risk_free_rate = risk_free_data['Close'].dropna().iloc[-1].item() / 100\n",
    "\n",
    "# Calculate Beta\n",
    "original_beta = funct.calculate_beta(\n",
    "    original_metrics[2], market_returns\n",
    "    )\n",
    "\n",
    "# Calculate Sharpe\n",
    "original_sharpe = funct.calc_sharpe_ratio(\n",
    "    original_metrics[0], risk_free_rate, original_metrics[1]\n",
    "    )\n",
    "\n",
    "# Calculate alpha for portfolio\n",
    "original_alpha = float(funct.calculate_alpha(original_metrics[0],risk_free_rate,original_beta,market_ret).iloc[0])\n",
    "\n",
    "# Display comparison\n",
    "print(\"Original Portfolio:\")\n",
    "print(f\"Expected Return: {original_metrics[0]:.4f}\")\n",
    "print(f\"Portfolio Std Dev: {original_metrics[1]:.4f}\")\n",
    "print(f\"Beta: {original_beta:.4f}\")\n",
    "print(f\"Sharpe Ratio: {original_sharpe:.4f}\")\n",
    "print(f\"Alpha: {original_alpha:.4f}\")\n",
    "\n",
    "\n",
    "\n"
   ]
  },
  {
   "cell_type": "code",
   "execution_count": 25,
   "metadata": {},
   "outputs": [
    {
     "ename": "IndexError",
     "evalue": "tuple index out of range",
     "output_type": "error",
     "traceback": [
      "\u001b[0;31m---------------------------------------------------------------------------\u001b[0m",
      "\u001b[0;31mIndexError\u001b[0m                                Traceback (most recent call last)",
      "Cell \u001b[0;32mIn[25], line 1\u001b[0m\n\u001b[0;32m----> 1\u001b[0m \u001b[43moriginal_metrics\u001b[49m\u001b[43m[\u001b[49m\u001b[38;5;241;43m5\u001b[39;49m\u001b[43m]\u001b[49m[\u001b[38;5;124m\"\u001b[39m\u001b[38;5;124mInvestment\u001b[39m\u001b[38;5;124m\"\u001b[39m]\n",
      "\u001b[0;31mIndexError\u001b[0m: tuple index out of range"
     ]
    }
   ],
   "source": [
    "original_metrics[5][\"Investment\"]"
   ]
  },
  {
   "cell_type": "code",
   "execution_count": null,
   "metadata": {},
   "outputs": [],
   "source": []
  }
 ],
 "metadata": {
  "kernelspec": {
   "display_name": "portf_analyz_env",
   "language": "python",
   "name": "python3"
  },
  "language_info": {
   "codemirror_mode": {
    "name": "ipython",
    "version": 3
   },
   "file_extension": ".py",
   "mimetype": "text/x-python",
   "name": "python",
   "nbconvert_exporter": "python",
   "pygments_lexer": "ipython3",
   "version": "3.12.3"
  }
 },
 "nbformat": 4,
 "nbformat_minor": 2
}
