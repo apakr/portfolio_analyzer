{
 "cells": [
  {
   "cell_type": "code",
   "execution_count": 2,
   "metadata": {},
   "outputs": [
    {
     "name": "stderr",
     "output_type": "stream",
     "text": [
      "[*********************100%***********************]  37 of 37 completed\n",
      "\n",
      "37 Failed downloads:\n",
      "['VHT', 'VCR', 'CVI', 'CVX', 'FDX', 'YUM', 'ADBE', 'SCHW', 'CPAY', 'LRCX', 'VGT', 'VFH', 'BRC', 'VDE', 'ADM', 'OVV', 'LMT', 'VAW', 'BBY', 'BLK', 'MPC', 'DIS', 'TEL', 'VOX', 'MOH', 'VIS', 'ATKR', 'JPM', 'GOOGL', 'MCK', 'VDC', 'MYE', 'MET', 'VPU', 'LDOS', 'JBL', 'VICI']: JSONDecodeError('Expecting value: line 1 column 1 (char 0)')\n"
     ]
    },
    {
     "ename": "IndexError",
     "evalue": "single positional indexer is out-of-bounds",
     "output_type": "error",
     "traceback": [
      "\u001b[0;31m---------------------------------------------------------------------------\u001b[0m",
      "\u001b[0;31mIndexError\u001b[0m                                Traceback (most recent call last)",
      "Cell \u001b[0;32mIn[2], line 90\u001b[0m\n\u001b[1;32m     87\u001b[0m     \u001b[38;5;28;01mreturn\u001b[39;00m alpha\n\u001b[1;32m     89\u001b[0m \u001b[38;5;66;03m# Calculate metrics for original portfolio\u001b[39;00m\n\u001b[0;32m---> 90\u001b[0m original_metrics \u001b[38;5;241m=\u001b[39m \u001b[43mcalculate_portfolio_metrics\u001b[49m\u001b[43m(\u001b[49m\u001b[43mportf\u001b[49m\u001b[43m)\u001b[49m\n\u001b[1;32m     92\u001b[0m \u001b[38;5;66;03m# # Download S&P 500 (or another market index) data\u001b[39;00m\n\u001b[1;32m     93\u001b[0m market_data \u001b[38;5;241m=\u001b[39m yf\u001b[38;5;241m.\u001b[39mdownload(\u001b[38;5;124m'\u001b[39m\u001b[38;5;124m^GSPC\u001b[39m\u001b[38;5;124m'\u001b[39m, start\u001b[38;5;241m=\u001b[39mstart_date, end\u001b[38;5;241m=\u001b[39mend_date, interval\u001b[38;5;241m=\u001b[39m\u001b[38;5;124m\"\u001b[39m\u001b[38;5;124m1mo\u001b[39m\u001b[38;5;124m\"\u001b[39m)[\u001b[38;5;124m'\u001b[39m\u001b[38;5;124mAdj Close\u001b[39m\u001b[38;5;124m'\u001b[39m]\n",
      "Cell \u001b[0;32mIn[2], line 29\u001b[0m, in \u001b[0;36mcalculate_portfolio_metrics\u001b[0;34m(portf)\u001b[0m\n\u001b[1;32m     26\u001b[0m returns \u001b[38;5;241m=\u001b[39m data\u001b[38;5;241m.\u001b[39mpct_change()\u001b[38;5;241m.\u001b[39mdropna()\n\u001b[1;32m     28\u001b[0m \u001b[38;5;66;03m# Calculate total investment in each stock\u001b[39;00m\n\u001b[0;32m---> 29\u001b[0m current_prices \u001b[38;5;241m=\u001b[39m \u001b[43mdata\u001b[49m\u001b[38;5;241;43m.\u001b[39;49m\u001b[43miloc\u001b[49m\u001b[43m[\u001b[49m\u001b[38;5;241;43m-\u001b[39;49m\u001b[38;5;241;43m1\u001b[39;49m\u001b[43m]\u001b[49m  \u001b[38;5;66;03m# Last row gives the latest prices\u001b[39;00m\n\u001b[1;32m     30\u001b[0m stock_rows[\u001b[38;5;124m'\u001b[39m\u001b[38;5;124mInvestment\u001b[39m\u001b[38;5;124m'\u001b[39m] \u001b[38;5;241m=\u001b[39m stock_rows[\u001b[38;5;124m'\u001b[39m\u001b[38;5;124mQUANTITY\u001b[39m\u001b[38;5;124m'\u001b[39m]\u001b[38;5;241m.\u001b[39mvalues \u001b[38;5;241m*\u001b[39m current_prices\u001b[38;5;241m.\u001b[39mvalues\n\u001b[1;32m     32\u001b[0m \u001b[38;5;66;03m# Check if cash row is empty and handle accordingly\u001b[39;00m\n",
      "File \u001b[0;32m~/miniconda3/envs/stockenv/lib/python3.9/site-packages/pandas/core/indexing.py:1191\u001b[0m, in \u001b[0;36m_LocationIndexer.__getitem__\u001b[0;34m(self, key)\u001b[0m\n\u001b[1;32m   1189\u001b[0m maybe_callable \u001b[38;5;241m=\u001b[39m com\u001b[38;5;241m.\u001b[39mapply_if_callable(key, \u001b[38;5;28mself\u001b[39m\u001b[38;5;241m.\u001b[39mobj)\n\u001b[1;32m   1190\u001b[0m maybe_callable \u001b[38;5;241m=\u001b[39m \u001b[38;5;28mself\u001b[39m\u001b[38;5;241m.\u001b[39m_check_deprecated_callable_usage(key, maybe_callable)\n\u001b[0;32m-> 1191\u001b[0m \u001b[38;5;28;01mreturn\u001b[39;00m \u001b[38;5;28;43mself\u001b[39;49m\u001b[38;5;241;43m.\u001b[39;49m\u001b[43m_getitem_axis\u001b[49m\u001b[43m(\u001b[49m\u001b[43mmaybe_callable\u001b[49m\u001b[43m,\u001b[49m\u001b[43m \u001b[49m\u001b[43maxis\u001b[49m\u001b[38;5;241;43m=\u001b[39;49m\u001b[43maxis\u001b[49m\u001b[43m)\u001b[49m\n",
      "File \u001b[0;32m~/miniconda3/envs/stockenv/lib/python3.9/site-packages/pandas/core/indexing.py:1752\u001b[0m, in \u001b[0;36m_iLocIndexer._getitem_axis\u001b[0;34m(self, key, axis)\u001b[0m\n\u001b[1;32m   1749\u001b[0m     \u001b[38;5;28;01mraise\u001b[39;00m \u001b[38;5;167;01mTypeError\u001b[39;00m(\u001b[38;5;124m\"\u001b[39m\u001b[38;5;124mCannot index by location index with a non-integer key\u001b[39m\u001b[38;5;124m\"\u001b[39m)\n\u001b[1;32m   1751\u001b[0m \u001b[38;5;66;03m# validate the location\u001b[39;00m\n\u001b[0;32m-> 1752\u001b[0m \u001b[38;5;28;43mself\u001b[39;49m\u001b[38;5;241;43m.\u001b[39;49m\u001b[43m_validate_integer\u001b[49m\u001b[43m(\u001b[49m\u001b[43mkey\u001b[49m\u001b[43m,\u001b[49m\u001b[43m \u001b[49m\u001b[43maxis\u001b[49m\u001b[43m)\u001b[49m\n\u001b[1;32m   1754\u001b[0m \u001b[38;5;28;01mreturn\u001b[39;00m \u001b[38;5;28mself\u001b[39m\u001b[38;5;241m.\u001b[39mobj\u001b[38;5;241m.\u001b[39m_ixs(key, axis\u001b[38;5;241m=\u001b[39maxis)\n",
      "File \u001b[0;32m~/miniconda3/envs/stockenv/lib/python3.9/site-packages/pandas/core/indexing.py:1685\u001b[0m, in \u001b[0;36m_iLocIndexer._validate_integer\u001b[0;34m(self, key, axis)\u001b[0m\n\u001b[1;32m   1683\u001b[0m len_axis \u001b[38;5;241m=\u001b[39m \u001b[38;5;28mlen\u001b[39m(\u001b[38;5;28mself\u001b[39m\u001b[38;5;241m.\u001b[39mobj\u001b[38;5;241m.\u001b[39m_get_axis(axis))\n\u001b[1;32m   1684\u001b[0m \u001b[38;5;28;01mif\u001b[39;00m key \u001b[38;5;241m>\u001b[39m\u001b[38;5;241m=\u001b[39m len_axis \u001b[38;5;129;01mor\u001b[39;00m key \u001b[38;5;241m<\u001b[39m \u001b[38;5;241m-\u001b[39mlen_axis:\n\u001b[0;32m-> 1685\u001b[0m     \u001b[38;5;28;01mraise\u001b[39;00m \u001b[38;5;167;01mIndexError\u001b[39;00m(\u001b[38;5;124m\"\u001b[39m\u001b[38;5;124msingle positional indexer is out-of-bounds\u001b[39m\u001b[38;5;124m\"\u001b[39m)\n",
      "\u001b[0;31mIndexError\u001b[0m: single positional indexer is out-of-bounds"
     ]
    }
   ],
   "source": [
    "import pandas as pd\n",
    "import yfinance as yf\n",
    "import numpy as np \n",
    "# from scipy.stats import gmean\n",
    "\n",
    "# Start dates - edit as required\n",
    "start_date = \"2023-11-11\" # yyyy-mm-dd\n",
    "end_date = \"2024-11-11\"\n",
    "\n",
    "# Load original portfolio\n",
    "portf = pd.read_csv(\"portfolios/fin456_portfolio_holdings_t0.csv\")\n",
    "\n",
    "# Load additional portfolio // optional, can be used to compare proposed changes.\n",
    "# additional_portf = pd.read_csv(\"fin456_portfolio_holdings_t1.csv\")\n",
    "\n",
    "def calculate_portfolio_metrics(portf):\n",
    "    # Separate cash and stock rows\n",
    "    cash_row = portf[portf['TICKER'] == 'USD']\n",
    "    stock_rows = portf[portf['TICKER'] != 'USD'].copy()  # Ensure this is a copy\n",
    "\n",
    "    # Fetch data for the tickers in the portfolio\n",
    "    tickers = stock_rows['TICKER'].tolist()\n",
    "    data = yf.download(tickers, start=start_date, end=end_date, interval=\"1mo\")['Adj Close']\n",
    "\n",
    "    # Calculate monthly returns\n",
    "    returns = data.pct_change().dropna()\n",
    "\n",
    "    # Calculate total investment in each stock\n",
    "    current_prices = data.iloc[-1]  # Last row gives the latest prices\n",
    "    stock_rows['Investment'] = stock_rows['QUANTITY'].values * current_prices.values\n",
    "\n",
    "    # Check if cash row is empty and handle accordingly\n",
    "    if not cash_row.empty:\n",
    "        cash_quantity = cash_row['QUANTITY'].iloc[0]\n",
    "    else:\n",
    "        cash_quantity = 0\n",
    "\n",
    "    # Add the cash row back for total investment\n",
    "    total_investment = stock_rows['Investment'].sum() + cash_quantity\n",
    "\n",
    "    # Calculate weights\n",
    "    stock_rows['Weight'] = stock_rows['Investment'] / total_investment\n",
    "\n",
    "    # Handle cash weight separately\n",
    "    cash_weight = cash_quantity / total_investment if cash_quantity > 0 else 0\n",
    "\n",
    "    # Calculate weighted monthly returns for the portfolio\n",
    "    weighted_returns = (returns * stock_rows.set_index('TICKER')['Weight']).sum(axis=1)\n",
    "\n",
    "    # Adjust weighted returns to include cash\n",
    "    weighted_returns = weighted_returns * (1 - cash_weight)\n",
    "\n",
    "    # Expected annual return\n",
    "    # expected_return = weighted_returns.mean() * 12 # using arithmetric mean\n",
    "    expected_return = (1+weighted_returns).prod()**(12/weighted_returns.size) - 1 # using geometric mean\n",
    "\n",
    "    # Portfolio variance and standard deviation (risk)\n",
    "    portfolio_variance = np.dot(stock_rows.set_index('TICKER')['Weight'].T, \n",
    "                                np.dot(returns.cov() * 12, \n",
    "                                       stock_rows.set_index('TICKER')['Weight']))\n",
    "    portfolio_variance *= (1 - cash_weight)**2  # Adjust for cash weight\n",
    "    portfolio_std_dev = np.sqrt(portfolio_variance)\n",
    "\n",
    "    return expected_return, portfolio_std_dev, weighted_returns, cash_weight\n",
    "\n",
    "# Function to calculate Beta and Sharpe Ratio\n",
    "def calculate_beta_sharpe(portfolio_returns, market_returns, risk_free_rate, portfolio_std_dev, expected_return):\n",
    "    aligned_portfolio_returns, aligned_market_returns = portfolio_returns.align(market_returns, join='inner')\n",
    "\n",
    "    # Ensure aligned_market_returns is a Series\n",
    "    if isinstance(aligned_market_returns, pd.DataFrame):\n",
    "        aligned_market_returns = aligned_market_returns.squeeze()  # Convert single-column DataFrame to Series\n",
    "\n",
    "    cov_matrix = np.cov(aligned_portfolio_returns, aligned_market_returns)\n",
    "\n",
    "    # Calculate beta\n",
    "    beta = cov_matrix[0, 1] / cov_matrix[1, 1]\n",
    "\n",
    "    # Sharpe Ratio\n",
    "    sharpe_ratio = (expected_return - risk_free_rate) / portfolio_std_dev\n",
    "    return beta, sharpe_ratio\n",
    "\n",
    "# Function to calculate the Alpha\n",
    "def calculate_alpha(portf_ret, risk_free_rate, beta, market_ret):\n",
    "    # Alpha = R - Rf - beta (Rm - Rf) ... R is the portf_ret, Rf is the risk_free_rate, beta is the systematic risk of the portfolio, Rm is the market return.\n",
    "    alpha = portf_ret - risk_free_rate - beta*(market_ret-risk_free_rate)\n",
    "    return alpha\n",
    "\n",
    "# Calculate metrics for original portfolio\n",
    "original_metrics = calculate_portfolio_metrics(portf)\n",
    "\n",
    "# # Download S&P 500 (or another market index) data\n",
    "market_data = yf.download('^GSPC', start=start_date, end=end_date, interval=\"1mo\")['Adj Close']\n",
    "\n",
    "# # Calculate market monthly returns\n",
    "market_returns = market_data.pct_change().dropna()\n",
    "\n",
    "# Fetch risk-free rate (10-Year Treasury Yield)\n",
    "risk_free_data = yf.download('^TNX', start=start_date, end=end_date, interval=\"1mo\")\n",
    "risk_free_rate = risk_free_data['Adj Close'].dropna().iloc[-1].item() / 100\n",
    "\n",
    "# Calculate Beta and Sharpe Ratio for both portfolios\n",
    "original_beta, original_sharpe = calculate_beta_sharpe(\n",
    "    original_metrics[2], market_returns, risk_free_rate, original_metrics[1], original_metrics[0]\n",
    ")\n",
    "\n",
    "# original_alpha = calculate_alpha()\n",
    "\n",
    "# Calculate metrics for additional portfolio # uncomment for additional portfolio\n",
    "# additional_metrics = calculate_portfolio_metrics(additional_portf)\n",
    "\n",
    "# additional_beta, additional_sharpe = calculate_beta_sharpe(  # uncomment for additional portfolio\n",
    "#     additional_metrics[2], market_returns, risk_free_rate, additional_metrics[1], additional_metrics[0]\n",
    "# )\n",
    "\n",
    "\n",
    "\n",
    "\n"
   ]
  },
  {
   "cell_type": "code",
   "execution_count": 4,
   "metadata": {},
   "outputs": [
    {
     "data": {
      "text/html": [
       "<div>\n",
       "<style scoped>\n",
       "    .dataframe tbody tr th:only-of-type {\n",
       "        vertical-align: middle;\n",
       "    }\n",
       "\n",
       "    .dataframe tbody tr th {\n",
       "        vertical-align: top;\n",
       "    }\n",
       "\n",
       "    .dataframe thead th {\n",
       "        text-align: right;\n",
       "    }\n",
       "</style>\n",
       "<table border=\"1\" class=\"dataframe\">\n",
       "  <thead>\n",
       "    <tr style=\"text-align: right;\">\n",
       "      <th></th>\n",
       "      <th>TICKER</th>\n",
       "      <th>QUANTITY</th>\n",
       "    </tr>\n",
       "  </thead>\n",
       "  <tbody>\n",
       "    <tr>\n",
       "      <th>0</th>\n",
       "      <td>ADBE</td>\n",
       "      <td>5</td>\n",
       "    </tr>\n",
       "    <tr>\n",
       "      <th>1</th>\n",
       "      <td>ADM</td>\n",
       "      <td>22</td>\n",
       "    </tr>\n",
       "    <tr>\n",
       "      <th>2</th>\n",
       "      <td>ATKR</td>\n",
       "      <td>11</td>\n",
       "    </tr>\n",
       "    <tr>\n",
       "      <th>3</th>\n",
       "      <td>BBY</td>\n",
       "      <td>32</td>\n",
       "    </tr>\n",
       "    <tr>\n",
       "      <th>4</th>\n",
       "      <td>BLK</td>\n",
       "      <td>3</td>\n",
       "    </tr>\n",
       "  </tbody>\n",
       "</table>\n",
       "</div>"
      ],
      "text/plain": [
       "  TICKER  QUANTITY\n",
       "0   ADBE         5\n",
       "1    ADM        22\n",
       "2   ATKR        11\n",
       "3    BBY        32\n",
       "4    BLK         3"
      ]
     },
     "execution_count": 4,
     "metadata": {},
     "output_type": "execute_result"
    }
   ],
   "source": [
    "portf.head()"
   ]
  },
  {
   "cell_type": "code",
   "execution_count": 3,
   "metadata": {},
   "outputs": [
    {
     "ename": "NameError",
     "evalue": "name 'original_metrics' is not defined",
     "output_type": "error",
     "traceback": [
      "\u001b[0;31m---------------------------------------------------------------------------\u001b[0m",
      "\u001b[0;31mNameError\u001b[0m                                 Traceback (most recent call last)",
      "Cell \u001b[0;32mIn[3], line 1\u001b[0m\n\u001b[0;32m----> 1\u001b[0m \u001b[43moriginal_metrics\u001b[49m\n",
      "\u001b[0;31mNameError\u001b[0m: name 'original_metrics' is not defined"
     ]
    }
   ],
   "source": [
    "original_metrics"
   ]
  },
  {
   "cell_type": "code",
   "execution_count": 10,
   "metadata": {},
   "outputs": [
    {
     "data": {
      "text/plain": [
       "Date\n",
       "2024-01-01    0.006758\n",
       "2024-02-01    0.037804\n",
       "2024-03-01    0.036962\n",
       "2024-04-01   -0.036994\n",
       "2024-05-01    0.032165\n",
       "2024-06-01    0.018229\n",
       "2024-07-01    0.030247\n",
       "2024-08-01    0.017712\n",
       "2024-09-01    0.007633\n",
       "2024-10-01   -0.009142\n",
       "2024-11-01    0.037091\n",
       "dtype: float64"
      ]
     },
     "execution_count": 10,
     "metadata": {},
     "output_type": "execute_result"
    }
   ],
   "source": [
    "aligned_portfolio_returns, aligned_market_returns = original_metrics[2].align(market_returns, join='inner')\n",
    "aligned_portfolio_returns"
   ]
  },
  {
   "cell_type": "code",
   "execution_count": 11,
   "metadata": {},
   "outputs": [
    {
     "data": {
      "text/plain": [
       "Date\n",
       "2024-01-01    0.015896\n",
       "2024-02-01    0.051721\n",
       "2024-03-01    0.031019\n",
       "2024-04-01   -0.041615\n",
       "2024-05-01    0.048021\n",
       "2024-06-01    0.034670\n",
       "2024-07-01    0.011321\n",
       "2024-08-01    0.022835\n",
       "2024-09-01    0.020197\n",
       "2024-10-01   -0.009897\n",
       "2024-11-01    0.037075\n",
       "Name: Adj Close, dtype: float64"
      ]
     },
     "execution_count": 11,
     "metadata": {},
     "output_type": "execute_result"
    }
   ],
   "source": [
    "aligned_market_returns"
   ]
  },
  {
   "cell_type": "code",
   "execution_count": 17,
   "metadata": {},
   "outputs": [],
   "source": [
    "# Function to calculate Beta and Sharpe Ratio\n",
    "def calculate_beta_sharpe(portfolio_returns, market_returns, risk_free_rate, portfolio_std_dev, expected_return):\n",
    "    aligned_portfolio_returns, aligned_market_returns = portfolio_returns.align(market_returns, join='inner')\n",
    "\n",
    "    # Ensure aligned_market_returns is a Series\n",
    "    if isinstance(aligned_market_returns, pd.DataFrame):\n",
    "        aligned_market_returns = aligned_market_returns.squeeze()  # Convert single-column DataFrame to Series\n",
    "\n",
    "    cov_matrix = np.cov(aligned_portfolio_returns, aligned_market_returns) # returns cov matrix of [[var(apr), cov(apr,amr)],[cov(amr,apr),var(amr)]]\n",
    "    print(cov_matrix)\n",
    "    # Calculate beta\n",
    "    beta = cov_matrix[0, 1] / cov_matrix[1, 1]\n",
    "\n",
    "    # Sharpe Ratio\n",
    "    sharpe_ratio = (expected_return - risk_free_rate) / portfolio_std_dev\n",
    "    return beta, sharpe_ratio"
   ]
  },
  {
   "cell_type": "code",
   "execution_count": 18,
   "metadata": {},
   "outputs": [
    {
     "name": "stdout",
     "output_type": "stream",
     "text": [
      "[[0.00054272 0.00057025]\n",
      " [0.00057025 0.00072099]]\n"
     ]
    }
   ],
   "source": [
    "# Calculate Beta and Sharpe Ratio for both portfolios\n",
    "original_beta, original_sharpe = calculate_beta_sharpe(\n",
    "    original_metrics[2], market_returns, risk_free_rate, original_metrics[1], original_metrics[0]\n",
    ")\n",
    "\n",
    "# original_alpha = calculate_alpha()"
   ]
  },
  {
   "cell_type": "code",
   "execution_count": 20,
   "metadata": {},
   "outputs": [
    {
     "data": {
      "text/plain": [
       "Date\n",
       "2024-01-01    0.015896\n",
       "2024-02-01    0.051721\n",
       "2024-03-01    0.031019\n",
       "2024-04-01   -0.041615\n",
       "2024-05-01    0.048021\n",
       "2024-06-01    0.034670\n",
       "2024-07-01    0.011321\n",
       "2024-08-01    0.022835\n",
       "2024-09-01    0.020197\n",
       "2024-10-01   -0.009897\n",
       "2024-11-01    0.037075\n",
       "Name: Adj Close, dtype: float64"
      ]
     },
     "execution_count": 20,
     "metadata": {},
     "output_type": "execute_result"
    }
   ],
   "source": [
    "market_returns"
   ]
  },
  {
   "cell_type": "code",
   "execution_count": 19,
   "metadata": {},
   "outputs": [
    {
     "data": {
      "text/plain": [
       "0.7909302802270889"
      ]
     },
     "execution_count": 19,
     "metadata": {},
     "output_type": "execute_result"
    }
   ],
   "source": [
    "original_beta"
   ]
  },
  {
   "cell_type": "code",
   "execution_count": 31,
   "metadata": {},
   "outputs": [
    {
     "data": {
      "text/plain": [
       "Date\n",
       "2024-01-01    0.006758\n",
       "2024-02-01    0.037804\n",
       "2024-03-01    0.036962\n",
       "2024-04-01   -0.036994\n",
       "2024-05-01    0.032165\n",
       "2024-06-01    0.018229\n",
       "2024-07-01    0.030247\n",
       "2024-08-01    0.017712\n",
       "2024-09-01    0.007633\n",
       "2024-10-01   -0.009142\n",
       "2024-11-01    0.037091\n",
       "dtype: float64"
      ]
     },
     "execution_count": 31,
     "metadata": {},
     "output_type": "execute_result"
    }
   ],
   "source": [
    "original_metrics[2]"
   ]
  },
  {
   "cell_type": "code",
   "execution_count": 26,
   "metadata": {},
   "outputs": [],
   "source": [
    "def get_exp_ret(ticker, start_date, end_date):\n",
    "\n",
    "    # Download S&P 500 (or another market index) data\n",
    "    market_data = yf.download(ticker, start=start_date, end=end_date, interval=\"1mo\")['Adj Close']\n",
    "\n",
    "    # Calculate market monthly returns\n",
    "    market_returns = market_data.pct_change().dropna()\n",
    "\n",
    "    expected_return = (1+market_returns).prod()**(12/market_returns.size) - 1 # using geometric mean\n",
    "\n",
    "    return expected_return\n"
   ]
  },
  {
   "cell_type": "code",
   "execution_count": 33,
   "metadata": {},
   "outputs": [
    {
     "name": "stdout",
     "output_type": "stream",
     "text": [
      "[*********************100%%**********************]  1 of 1 completed\n"
     ]
    }
   ],
   "source": [
    "market_ret = get_exp_ret('^GSPC',start_date,end_date)"
   ]
  },
  {
   "cell_type": "code",
   "execution_count": 35,
   "metadata": {},
   "outputs": [
    {
     "data": {
      "text/plain": [
       "-0.015539131756187458"
      ]
     },
     "execution_count": 35,
     "metadata": {},
     "output_type": "execute_result"
    }
   ],
   "source": [
    "original_alpha = calculate_alpha(original_metrics[0],risk_free_rate,original_beta,market_ret) \n",
    "original_alpha"
   ]
  },
  {
   "cell_type": "code",
   "execution_count": 1,
   "metadata": {},
   "outputs": [
    {
     "data": {
      "text/plain": [
       "1732414386.2541435"
      ]
     },
     "execution_count": 1,
     "metadata": {},
     "output_type": "execute_result"
    }
   ],
   "source": [
    "import time\n",
    "time.time()"
   ]
  },
  {
   "cell_type": "code",
   "execution_count": 2,
   "metadata": {},
   "outputs": [
    {
     "data": {
      "text/plain": [
       "time.struct_time(tm_year=2024, tm_mon=11, tm_mday=24, tm_hour=2, tm_min=13, tm_sec=23, tm_wday=6, tm_yday=329, tm_isdst=0)"
      ]
     },
     "execution_count": 2,
     "metadata": {},
     "output_type": "execute_result"
    }
   ],
   "source": [
    "time.gmtime(time.time())"
   ]
  },
  {
   "cell_type": "code",
   "execution_count": null,
   "metadata": {},
   "outputs": [],
   "source": [
    "a = time.strftime(\"%Y-%m-%d\",time.gmtime(time.time()))"
   ]
  },
  {
   "cell_type": "code",
   "execution_count": 10,
   "metadata": {},
   "outputs": [],
   "source": [
    "a = time.strptime(a,\"%Y-%m-%d\")"
   ]
  },
  {
   "cell_type": "code",
   "execution_count": 11,
   "metadata": {},
   "outputs": [
    {
     "data": {
      "text/plain": [
       "1732428000.0"
      ]
     },
     "execution_count": 11,
     "metadata": {},
     "output_type": "execute_result"
    }
   ],
   "source": [
    "time.mktime(a)"
   ]
  },
  {
   "cell_type": "code",
   "execution_count": 13,
   "metadata": {},
   "outputs": [
    {
     "data": {
      "text/plain": [
       "'2024-11-24'"
      ]
     },
     "execution_count": 13,
     "metadata": {},
     "output_type": "execute_result"
    }
   ],
   "source": [
    "a"
   ]
  },
  {
   "cell_type": "code",
   "execution_count": 25,
   "metadata": {},
   "outputs": [
    {
     "data": {
      "text/plain": [
       "type"
      ]
     },
     "execution_count": 25,
     "metadata": {},
     "output_type": "execute_result"
    }
   ],
   "source": [
    "from datetime import datetime\n",
    "import pytz\n",
    "\n",
    "type(datetime)"
   ]
  },
  {
   "cell_type": "code",
   "execution_count": 20,
   "metadata": {},
   "outputs": [
    {
     "data": {
      "text/plain": [
       "<DstTzInfo 'America/New_York' LMT-1 day, 19:04:00 STD>"
      ]
     },
     "execution_count": 20,
     "metadata": {},
     "output_type": "execute_result"
    }
   ],
   "source": [
    "pytz.timezone('America/New_York')"
   ]
  },
  {
   "cell_type": "code",
   "execution_count": 26,
   "metadata": {},
   "outputs": [
    {
     "data": {
      "text/plain": [
       "datetime.datetime(2024, 11, 23, 21, 26, 8, 342276, tzinfo=<DstTzInfo 'America/New_York' EST-1 day, 19:00:00 STD>)"
      ]
     },
     "execution_count": 26,
     "metadata": {},
     "output_type": "execute_result"
    }
   ],
   "source": [
    "datetime.now(pytz.timezone('America/New_York'))"
   ]
  },
  {
   "cell_type": "code",
   "execution_count": 28,
   "metadata": {},
   "outputs": [
    {
     "data": {
      "text/plain": [
       "'2024-11-23'"
      ]
     },
     "execution_count": 28,
     "metadata": {},
     "output_type": "execute_result"
    }
   ],
   "source": [
    "datetime.now(pytz.timezone('America/New_York')).strftime(\"%Y-%m-%d\")"
   ]
  },
  {
   "cell_type": "code",
   "execution_count": 30,
   "metadata": {},
   "outputs": [],
   "source": [
    "end_date = datetime.now(pytz.timezone('America/New_York')).strftime(\"%Y-%m-%d\") # yyyy-mm-dd\n",
    "start_date = datetime.now(pytz.timezone('America/New_York')).replace(year=datetime.now(pytz.timezone('America/New_York')).year-1).strftime(\"%Y-%m-%d\")\n",
    " "
   ]
  },
  {
   "cell_type": "code",
   "execution_count": 31,
   "metadata": {},
   "outputs": [
    {
     "data": {
      "text/plain": [
       "'2024-11-23'"
      ]
     },
     "execution_count": 31,
     "metadata": {},
     "output_type": "execute_result"
    }
   ],
   "source": [
    "end_date"
   ]
  },
  {
   "cell_type": "code",
   "execution_count": 33,
   "metadata": {},
   "outputs": [
    {
     "data": {
      "text/plain": [
       "str"
      ]
     },
     "execution_count": 33,
     "metadata": {},
     "output_type": "execute_result"
    }
   ],
   "source": [
    "type(start_date)"
   ]
  },
  {
   "cell_type": "code",
   "execution_count": 34,
   "metadata": {},
   "outputs": [
    {
     "data": {
      "text/plain": [
       "str"
      ]
     },
     "execution_count": 34,
     "metadata": {},
     "output_type": "execute_result"
    }
   ],
   "source": [
    "type(\"2024\")"
   ]
  },
  {
   "cell_type": "code",
   "execution_count": 1,
   "metadata": {},
   "outputs": [],
   "source": [
    "import yfinance as yf\n",
    "\n",
    "ticker = yf.Ticker(\"AAPL\")\n",
    "data = ticker.history(period='1d')"
   ]
  },
  {
   "cell_type": "code",
   "execution_count": 2,
   "metadata": {},
   "outputs": [],
   "source": [
    "nTicker = yf.Ticker(\"SPY\")"
   ]
  },
  {
   "cell_type": "code",
   "execution_count": 14,
   "metadata": {},
   "outputs": [
    {
     "data": {
      "text/plain": [
       "yfinance.Ticker object <SPY>"
      ]
     },
     "execution_count": 14,
     "metadata": {},
     "output_type": "execute_result"
    }
   ],
   "source": [
    "nTicker"
   ]
  },
  {
   "cell_type": "code",
   "execution_count": 3,
   "metadata": {},
   "outputs": [],
   "source": [
    "data = nTicker.history(period = \"1y\")"
   ]
  },
  {
   "cell_type": "code",
   "execution_count": 6,
   "metadata": {},
   "outputs": [
    {
     "data": {
      "text/html": [
       "<div>\n",
       "<style scoped>\n",
       "    .dataframe tbody tr th:only-of-type {\n",
       "        vertical-align: middle;\n",
       "    }\n",
       "\n",
       "    .dataframe tbody tr th {\n",
       "        vertical-align: top;\n",
       "    }\n",
       "\n",
       "    .dataframe thead th {\n",
       "        text-align: right;\n",
       "    }\n",
       "</style>\n",
       "<table border=\"1\" class=\"dataframe\">\n",
       "  <thead>\n",
       "    <tr style=\"text-align: right;\">\n",
       "      <th></th>\n",
       "      <th>Open</th>\n",
       "      <th>High</th>\n",
       "      <th>Low</th>\n",
       "      <th>Close</th>\n",
       "      <th>Volume</th>\n",
       "      <th>Dividends</th>\n",
       "      <th>Stock Splits</th>\n",
       "      <th>Capital Gains</th>\n",
       "    </tr>\n",
       "    <tr>\n",
       "      <th>Date</th>\n",
       "      <th></th>\n",
       "      <th></th>\n",
       "      <th></th>\n",
       "      <th></th>\n",
       "      <th></th>\n",
       "      <th></th>\n",
       "      <th></th>\n",
       "      <th></th>\n",
       "    </tr>\n",
       "  </thead>\n",
       "  <tbody>\n",
       "    <tr>\n",
       "      <th>2024-02-27 00:00:00-05:00</th>\n",
       "      <td>500.282698</td>\n",
       "      <td>500.736864</td>\n",
       "      <td>498.357382</td>\n",
       "      <td>500.509766</td>\n",
       "      <td>48854500</td>\n",
       "      <td>0.0</td>\n",
       "      <td>0.0</td>\n",
       "      <td>0.0</td>\n",
       "    </tr>\n",
       "    <tr>\n",
       "      <th>2024-02-28 00:00:00-05:00</th>\n",
       "      <td>498.930053</td>\n",
       "      <td>500.440674</td>\n",
       "      <td>498.564743</td>\n",
       "      <td>499.848297</td>\n",
       "      <td>56506600</td>\n",
       "      <td>0.0</td>\n",
       "      <td>0.0</td>\n",
       "      <td>0.0</td>\n",
       "    </tr>\n",
       "    <tr>\n",
       "      <th>2024-02-29 00:00:00-05:00</th>\n",
       "      <td>501.635411</td>\n",
       "      <td>503.284244</td>\n",
       "      <td>498.949858</td>\n",
       "      <td>501.645264</td>\n",
       "      <td>83924800</td>\n",
       "      <td>0.0</td>\n",
       "      <td>0.0</td>\n",
       "      <td>0.0</td>\n",
       "    </tr>\n",
       "    <tr>\n",
       "      <th>2024-03-01 00:00:00-05:00</th>\n",
       "      <td>502.533845</td>\n",
       "      <td>506.789227</td>\n",
       "      <td>502.119151</td>\n",
       "      <td>506.354797</td>\n",
       "      <td>76805900</td>\n",
       "      <td>0.0</td>\n",
       "      <td>0.0</td>\n",
       "      <td>0.0</td>\n",
       "    </tr>\n",
       "    <tr>\n",
       "      <th>2024-03-04 00:00:00-05:00</th>\n",
       "      <td>505.545259</td>\n",
       "      <td>507.687759</td>\n",
       "      <td>505.515610</td>\n",
       "      <td>505.811798</td>\n",
       "      <td>49799300</td>\n",
       "      <td>0.0</td>\n",
       "      <td>0.0</td>\n",
       "      <td>0.0</td>\n",
       "    </tr>\n",
       "    <tr>\n",
       "      <th>...</th>\n",
       "      <td>...</td>\n",
       "      <td>...</td>\n",
       "      <td>...</td>\n",
       "      <td>...</td>\n",
       "      <td>...</td>\n",
       "      <td>...</td>\n",
       "      <td>...</td>\n",
       "      <td>...</td>\n",
       "    </tr>\n",
       "    <tr>\n",
       "      <th>2025-02-20 00:00:00-05:00</th>\n",
       "      <td>611.539978</td>\n",
       "      <td>611.679993</td>\n",
       "      <td>607.020020</td>\n",
       "      <td>610.380005</td>\n",
       "      <td>36554000</td>\n",
       "      <td>0.0</td>\n",
       "      <td>0.0</td>\n",
       "      <td>0.0</td>\n",
       "    </tr>\n",
       "    <tr>\n",
       "      <th>2025-02-21 00:00:00-05:00</th>\n",
       "      <td>610.159973</td>\n",
       "      <td>610.299988</td>\n",
       "      <td>599.469971</td>\n",
       "      <td>599.940002</td>\n",
       "      <td>76519800</td>\n",
       "      <td>0.0</td>\n",
       "      <td>0.0</td>\n",
       "      <td>0.0</td>\n",
       "    </tr>\n",
       "    <tr>\n",
       "      <th>2025-02-24 00:00:00-05:00</th>\n",
       "      <td>602.020020</td>\n",
       "      <td>603.030029</td>\n",
       "      <td>596.489990</td>\n",
       "      <td>597.210022</td>\n",
       "      <td>50737200</td>\n",
       "      <td>0.0</td>\n",
       "      <td>0.0</td>\n",
       "      <td>0.0</td>\n",
       "    </tr>\n",
       "    <tr>\n",
       "      <th>2025-02-25 00:00:00-05:00</th>\n",
       "      <td>597.150024</td>\n",
       "      <td>597.890015</td>\n",
       "      <td>589.559998</td>\n",
       "      <td>594.239990</td>\n",
       "      <td>58266500</td>\n",
       "      <td>0.0</td>\n",
       "      <td>0.0</td>\n",
       "      <td>0.0</td>\n",
       "    </tr>\n",
       "    <tr>\n",
       "      <th>2025-02-26 00:00:00-05:00</th>\n",
       "      <td>595.929993</td>\n",
       "      <td>599.580017</td>\n",
       "      <td>591.855591</td>\n",
       "      <td>594.539978</td>\n",
       "      <td>38747623</td>\n",
       "      <td>0.0</td>\n",
       "      <td>0.0</td>\n",
       "      <td>0.0</td>\n",
       "    </tr>\n",
       "  </tbody>\n",
       "</table>\n",
       "<p>251 rows × 8 columns</p>\n",
       "</div>"
      ],
      "text/plain": [
       "                                 Open        High         Low       Close  \\\n",
       "Date                                                                        \n",
       "2024-02-27 00:00:00-05:00  500.282698  500.736864  498.357382  500.509766   \n",
       "2024-02-28 00:00:00-05:00  498.930053  500.440674  498.564743  499.848297   \n",
       "2024-02-29 00:00:00-05:00  501.635411  503.284244  498.949858  501.645264   \n",
       "2024-03-01 00:00:00-05:00  502.533845  506.789227  502.119151  506.354797   \n",
       "2024-03-04 00:00:00-05:00  505.545259  507.687759  505.515610  505.811798   \n",
       "...                               ...         ...         ...         ...   \n",
       "2025-02-20 00:00:00-05:00  611.539978  611.679993  607.020020  610.380005   \n",
       "2025-02-21 00:00:00-05:00  610.159973  610.299988  599.469971  599.940002   \n",
       "2025-02-24 00:00:00-05:00  602.020020  603.030029  596.489990  597.210022   \n",
       "2025-02-25 00:00:00-05:00  597.150024  597.890015  589.559998  594.239990   \n",
       "2025-02-26 00:00:00-05:00  595.929993  599.580017  591.855591  594.539978   \n",
       "\n",
       "                             Volume  Dividends  Stock Splits  Capital Gains  \n",
       "Date                                                                         \n",
       "2024-02-27 00:00:00-05:00  48854500        0.0           0.0            0.0  \n",
       "2024-02-28 00:00:00-05:00  56506600        0.0           0.0            0.0  \n",
       "2024-02-29 00:00:00-05:00  83924800        0.0           0.0            0.0  \n",
       "2024-03-01 00:00:00-05:00  76805900        0.0           0.0            0.0  \n",
       "2024-03-04 00:00:00-05:00  49799300        0.0           0.0            0.0  \n",
       "...                             ...        ...           ...            ...  \n",
       "2025-02-20 00:00:00-05:00  36554000        0.0           0.0            0.0  \n",
       "2025-02-21 00:00:00-05:00  76519800        0.0           0.0            0.0  \n",
       "2025-02-24 00:00:00-05:00  50737200        0.0           0.0            0.0  \n",
       "2025-02-25 00:00:00-05:00  58266500        0.0           0.0            0.0  \n",
       "2025-02-26 00:00:00-05:00  38747623        0.0           0.0            0.0  \n",
       "\n",
       "[251 rows x 8 columns]"
      ]
     },
     "execution_count": 6,
     "metadata": {},
     "output_type": "execute_result"
    }
   ],
   "source": [
    "data"
   ]
  },
  {
   "cell_type": "code",
   "execution_count": 10,
   "metadata": {},
   "outputs": [],
   "source": [
    "import pandas as pd \n",
    "a = pd.read_csv(\"portfolios/simple_portf.csv\")"
   ]
  },
  {
   "cell_type": "code",
   "execution_count": 11,
   "metadata": {},
   "outputs": [
    {
     "data": {
      "text/html": [
       "<div>\n",
       "<style scoped>\n",
       "    .dataframe tbody tr th:only-of-type {\n",
       "        vertical-align: middle;\n",
       "    }\n",
       "\n",
       "    .dataframe tbody tr th {\n",
       "        vertical-align: top;\n",
       "    }\n",
       "\n",
       "    .dataframe thead th {\n",
       "        text-align: right;\n",
       "    }\n",
       "</style>\n",
       "<table border=\"1\" class=\"dataframe\">\n",
       "  <thead>\n",
       "    <tr style=\"text-align: right;\">\n",
       "      <th></th>\n",
       "      <th>TICKER</th>\n",
       "      <th>QUANTITY</th>\n",
       "    </tr>\n",
       "  </thead>\n",
       "  <tbody>\n",
       "    <tr>\n",
       "      <th>0</th>\n",
       "      <td>JPM</td>\n",
       "      <td>10</td>\n",
       "    </tr>\n",
       "    <tr>\n",
       "      <th>1</th>\n",
       "      <td>GOOG</td>\n",
       "      <td>10</td>\n",
       "    </tr>\n",
       "    <tr>\n",
       "      <th>2</th>\n",
       "      <td>AMZN</td>\n",
       "      <td>10</td>\n",
       "    </tr>\n",
       "    <tr>\n",
       "      <th>3</th>\n",
       "      <td>STLA</td>\n",
       "      <td>10</td>\n",
       "    </tr>\n",
       "  </tbody>\n",
       "</table>\n",
       "</div>"
      ],
      "text/plain": [
       "  TICKER  QUANTITY\n",
       "0    JPM        10\n",
       "1   GOOG        10\n",
       "2   AMZN        10\n",
       "3   STLA        10"
      ]
     },
     "execution_count": 11,
     "metadata": {},
     "output_type": "execute_result"
    }
   ],
   "source": [
    "a"
   ]
  },
  {
   "cell_type": "code",
   "execution_count": 21,
   "metadata": {},
   "outputs": [],
   "source": [
    "tickers = a[\"TICKER\"].to_list()"
   ]
  },
  {
   "cell_type": "code",
   "execution_count": 22,
   "metadata": {},
   "outputs": [
    {
     "data": {
      "text/plain": [
       "['JPM', 'GOOG', 'AMZN', 'STLA']"
      ]
     },
     "execution_count": 22,
     "metadata": {},
     "output_type": "execute_result"
    }
   ],
   "source": [
    "tickers"
   ]
  },
  {
   "cell_type": "code",
   "execution_count": 30,
   "metadata": {},
   "outputs": [
    {
     "name": "stderr",
     "output_type": "stream",
     "text": [
      "[*********************100%***********************]  4 of 4 completed\n"
     ]
    }
   ],
   "source": [
    "dat = yf.download(tickers, start=\"2023-11-11\", interval=\"1mo\")[\"Close\"]"
   ]
  },
  {
   "cell_type": "code",
   "execution_count": 29,
   "metadata": {},
   "outputs": [
    {
     "data": {
      "text/html": [
       "<div>\n",
       "<style scoped>\n",
       "    .dataframe tbody tr th:only-of-type {\n",
       "        vertical-align: middle;\n",
       "    }\n",
       "\n",
       "    .dataframe tbody tr th {\n",
       "        vertical-align: top;\n",
       "    }\n",
       "\n",
       "    .dataframe thead tr th {\n",
       "        text-align: left;\n",
       "    }\n",
       "\n",
       "    .dataframe thead tr:last-of-type th {\n",
       "        text-align: right;\n",
       "    }\n",
       "</style>\n",
       "<table border=\"1\" class=\"dataframe\">\n",
       "  <thead>\n",
       "    <tr>\n",
       "      <th>Price</th>\n",
       "      <th colspan=\"4\" halign=\"left\">Close</th>\n",
       "      <th colspan=\"4\" halign=\"left\">High</th>\n",
       "      <th colspan=\"4\" halign=\"left\">Low</th>\n",
       "      <th colspan=\"4\" halign=\"left\">Open</th>\n",
       "      <th colspan=\"4\" halign=\"left\">Volume</th>\n",
       "    </tr>\n",
       "    <tr>\n",
       "      <th>Ticker</th>\n",
       "      <th>AMZN</th>\n",
       "      <th>GOOG</th>\n",
       "      <th>JPM</th>\n",
       "      <th>STLA</th>\n",
       "      <th>AMZN</th>\n",
       "      <th>GOOG</th>\n",
       "      <th>JPM</th>\n",
       "      <th>STLA</th>\n",
       "      <th>AMZN</th>\n",
       "      <th>GOOG</th>\n",
       "      <th>JPM</th>\n",
       "      <th>STLA</th>\n",
       "      <th>AMZN</th>\n",
       "      <th>GOOG</th>\n",
       "      <th>JPM</th>\n",
       "      <th>STLA</th>\n",
       "      <th>AMZN</th>\n",
       "      <th>GOOG</th>\n",
       "      <th>JPM</th>\n",
       "      <th>STLA</th>\n",
       "    </tr>\n",
       "    <tr>\n",
       "      <th>Date</th>\n",
       "      <th></th>\n",
       "      <th></th>\n",
       "      <th></th>\n",
       "      <th></th>\n",
       "      <th></th>\n",
       "      <th></th>\n",
       "      <th></th>\n",
       "      <th></th>\n",
       "      <th></th>\n",
       "      <th></th>\n",
       "      <th></th>\n",
       "      <th></th>\n",
       "      <th></th>\n",
       "      <th></th>\n",
       "      <th></th>\n",
       "      <th></th>\n",
       "      <th></th>\n",
       "      <th></th>\n",
       "      <th></th>\n",
       "      <th></th>\n",
       "    </tr>\n",
       "  </thead>\n",
       "  <tbody>\n",
       "    <tr>\n",
       "      <th>2023-12-01</th>\n",
       "      <td>151.940002</td>\n",
       "      <td>140.425430</td>\n",
       "      <td>165.279251</td>\n",
       "      <td>21.825058</td>\n",
       "      <td>155.630005</td>\n",
       "      <td>143.429650</td>\n",
       "      <td>165.852527</td>\n",
       "      <td>22.143262</td>\n",
       "      <td>142.809998</td>\n",
       "      <td>128.936712</td>\n",
       "      <td>151.403958</td>\n",
       "      <td>20.299551</td>\n",
       "      <td>146.000000</td>\n",
       "      <td>132.842690</td>\n",
       "      <td>151.403958</td>\n",
       "      <td>20.365063</td>\n",
       "      <td>931128600</td>\n",
       "      <td>482059400</td>\n",
       "      <td>184754800</td>\n",
       "      <td>94317800</td>\n",
       "    </tr>\n",
       "    <tr>\n",
       "      <th>2024-01-01</th>\n",
       "      <td>155.199997</td>\n",
       "      <td>141.292328</td>\n",
       "      <td>169.418518</td>\n",
       "      <td>20.552240</td>\n",
       "      <td>161.729996</td>\n",
       "      <td>154.644347</td>\n",
       "      <td>173.246858</td>\n",
       "      <td>21.750186</td>\n",
       "      <td>144.050003</td>\n",
       "      <td>136.360053</td>\n",
       "      <td>159.643628</td>\n",
       "      <td>19.541474</td>\n",
       "      <td>151.539993</td>\n",
       "      <td>139.100207</td>\n",
       "      <td>164.297869</td>\n",
       "      <td>21.628520</td>\n",
       "      <td>953344900</td>\n",
       "      <td>428771200</td>\n",
       "      <td>231646400</td>\n",
       "      <td>104166200</td>\n",
       "    </tr>\n",
       "    <tr>\n",
       "      <th>2024-02-01</th>\n",
       "      <td>176.759995</td>\n",
       "      <td>139.279556</td>\n",
       "      <td>181.901718</td>\n",
       "      <td>24.576588</td>\n",
       "      <td>177.220001</td>\n",
       "      <td>150.155487</td>\n",
       "      <td>182.263444</td>\n",
       "      <td>25.016457</td>\n",
       "      <td>155.619995</td>\n",
       "      <td>136.150799</td>\n",
       "      <td>167.598681</td>\n",
       "      <td>20.917241</td>\n",
       "      <td>155.869995</td>\n",
       "      <td>143.175561</td>\n",
       "      <td>169.759296</td>\n",
       "      <td>21.020188</td>\n",
       "      <td>1045061200</td>\n",
       "      <td>475231400</td>\n",
       "      <td>154730300</td>\n",
       "      <td>130091300</td>\n",
       "    </tr>\n",
       "    <tr>\n",
       "      <th>2024-03-01</th>\n",
       "      <td>180.380005</td>\n",
       "      <td>151.714874</td>\n",
       "      <td>195.823486</td>\n",
       "      <td>26.485811</td>\n",
       "      <td>181.699997</td>\n",
       "      <td>152.651511</td>\n",
       "      <td>196.234098</td>\n",
       "      <td>27.618244</td>\n",
       "      <td>171.470001</td>\n",
       "      <td>131.079029</td>\n",
       "      <td>180.151743</td>\n",
       "      <td>24.604665</td>\n",
       "      <td>176.750000</td>\n",
       "      <td>139.110170</td>\n",
       "      <td>181.549777</td>\n",
       "      <td>24.632741</td>\n",
       "      <td>701928900</td>\n",
       "      <td>507013200</td>\n",
       "      <td>166241400</td>\n",
       "      <td>101639500</td>\n",
       "    </tr>\n",
       "    <tr>\n",
       "      <th>2024-04-01</th>\n",
       "      <td>175.000000</td>\n",
       "      <td>164.050552</td>\n",
       "      <td>187.454788</td>\n",
       "      <td>20.870445</td>\n",
       "      <td>189.770004</td>\n",
       "      <td>175.788376</td>\n",
       "      <td>196.449173</td>\n",
       "      <td>26.663632</td>\n",
       "      <td>166.320007</td>\n",
       "      <td>150.540091</td>\n",
       "      <td>175.195038</td>\n",
       "      <td>20.645831</td>\n",
       "      <td>180.789993</td>\n",
       "      <td>151.286417</td>\n",
       "      <td>195.520408</td>\n",
       "      <td>26.485812</td>\n",
       "      <td>917021100</td>\n",
       "      <td>486888300</td>\n",
       "      <td>224706700</td>\n",
       "      <td>123582300</td>\n",
       "    </tr>\n",
       "    <tr>\n",
       "      <th>2024-05-01</th>\n",
       "      <td>176.440002</td>\n",
       "      <td>173.337189</td>\n",
       "      <td>199.256943</td>\n",
       "      <td>22.270000</td>\n",
       "      <td>191.699997</td>\n",
       "      <td>179.305733</td>\n",
       "      <td>202.452842</td>\n",
       "      <td>23.370001</td>\n",
       "      <td>173.869995</td>\n",
       "      <td>164.309613</td>\n",
       "      <td>185.322824</td>\n",
       "      <td>21.129999</td>\n",
       "      <td>181.639999</td>\n",
       "      <td>165.585029</td>\n",
       "      <td>189.069399</td>\n",
       "      <td>22.610001</td>\n",
       "      <td>892301700</td>\n",
       "      <td>391987600</td>\n",
       "      <td>195900200</td>\n",
       "      <td>148341400</td>\n",
       "    </tr>\n",
       "    <tr>\n",
       "      <th>2024-06-01</th>\n",
       "      <td>193.250000</td>\n",
       "      <td>182.763306</td>\n",
       "      <td>198.893097</td>\n",
       "      <td>19.850000</td>\n",
       "      <td>199.839996</td>\n",
       "      <td>186.828700</td>\n",
       "      <td>199.227449</td>\n",
       "      <td>22.219999</td>\n",
       "      <td>175.919998</td>\n",
       "      <td>171.832580</td>\n",
       "      <td>187.702543</td>\n",
       "      <td>19.590000</td>\n",
       "      <td>177.699997</td>\n",
       "      <td>173.257468</td>\n",
       "      <td>198.942268</td>\n",
       "      <td>22.160000</td>\n",
       "      <td>813276000</td>\n",
       "      <td>351403100</td>\n",
       "      <td>174902100</td>\n",
       "      <td>111318300</td>\n",
       "    </tr>\n",
       "    <tr>\n",
       "      <th>2024-07-01</th>\n",
       "      <td>186.979996</td>\n",
       "      <td>172.726410</td>\n",
       "      <td>209.257660</td>\n",
       "      <td>16.690001</td>\n",
       "      <td>201.199997</td>\n",
       "      <td>192.837095</td>\n",
       "      <td>213.938418</td>\n",
       "      <td>21.049999</td>\n",
       "      <td>176.800003</td>\n",
       "      <td>165.459243</td>\n",
       "      <td>198.735779</td>\n",
       "      <td>16.570000</td>\n",
       "      <td>193.490005</td>\n",
       "      <td>184.028695</td>\n",
       "      <td>199.463451</td>\n",
       "      <td>20.160000</td>\n",
       "      <td>868061100</td>\n",
       "      <td>354565500</td>\n",
       "      <td>197445800</td>\n",
       "      <td>173728500</td>\n",
       "    </tr>\n",
       "    <tr>\n",
       "      <th>2024-08-01</th>\n",
       "      <td>178.500000</td>\n",
       "      <td>164.706085</td>\n",
       "      <td>222.282806</td>\n",
       "      <td>16.780001</td>\n",
       "      <td>190.600006</td>\n",
       "      <td>175.250219</td>\n",
       "      <td>222.955185</td>\n",
       "      <td>16.920000</td>\n",
       "      <td>151.610001</td>\n",
       "      <td>156.216909</td>\n",
       "      <td>188.762392</td>\n",
       "      <td>15.120000</td>\n",
       "      <td>189.289993</td>\n",
       "      <td>171.559274</td>\n",
       "      <td>210.812691</td>\n",
       "      <td>16.620001</td>\n",
       "      <td>971023900</td>\n",
       "      <td>389619100</td>\n",
       "      <td>172435900</td>\n",
       "      <td>157242100</td>\n",
       "    </tr>\n",
       "    <tr>\n",
       "      <th>2024-09-01</th>\n",
       "      <td>186.330002</td>\n",
       "      <td>166.781006</td>\n",
       "      <td>208.498901</td>\n",
       "      <td>14.050000</td>\n",
       "      <td>195.369995</td>\n",
       "      <td>166.950588</td>\n",
       "      <td>221.590652</td>\n",
       "      <td>16.379999</td>\n",
       "      <td>171.160004</td>\n",
       "      <td>147.837456</td>\n",
       "      <td>198.363675</td>\n",
       "      <td>13.760000</td>\n",
       "      <td>177.550003</td>\n",
       "      <td>162.915485</td>\n",
       "      <td>219.810805</td>\n",
       "      <td>16.350000</td>\n",
       "      <td>765028800</td>\n",
       "      <td>389120500</td>\n",
       "      <td>206489000</td>\n",
       "      <td>215484500</td>\n",
       "    </tr>\n",
       "    <tr>\n",
       "      <th>2024-10-01</th>\n",
       "      <td>186.399994</td>\n",
       "      <td>172.494308</td>\n",
       "      <td>219.435059</td>\n",
       "      <td>13.620000</td>\n",
       "      <td>195.610001</td>\n",
       "      <td>183.581721</td>\n",
       "      <td>224.210977</td>\n",
       "      <td>13.920000</td>\n",
       "      <td>180.250000</td>\n",
       "      <td>160.937412</td>\n",
       "      <td>202.051908</td>\n",
       "      <td>12.740000</td>\n",
       "      <td>184.899994</td>\n",
       "      <td>168.668647</td>\n",
       "      <td>206.560845</td>\n",
       "      <td>13.900000</td>\n",
       "      <td>733878800</td>\n",
       "      <td>381759000</td>\n",
       "      <td>178337400</td>\n",
       "      <td>180518100</td>\n",
       "    </tr>\n",
       "    <tr>\n",
       "      <th>2024-11-01</th>\n",
       "      <td>207.889999</td>\n",
       "      <td>170.296799</td>\n",
       "      <td>248.436920</td>\n",
       "      <td>13.200000</td>\n",
       "      <td>215.899994</td>\n",
       "      <td>183.816449</td>\n",
       "      <td>253.003333</td>\n",
       "      <td>14.230000</td>\n",
       "      <td>194.309998</td>\n",
       "      <td>165.122661</td>\n",
       "      <td>218.043885</td>\n",
       "      <td>12.580000</td>\n",
       "      <td>199.000000</td>\n",
       "      <td>171.345597</td>\n",
       "      <td>222.411329</td>\n",
       "      <td>13.770000</td>\n",
       "      <td>905937900</td>\n",
       "      <td>360654000</td>\n",
       "      <td>188852500</td>\n",
       "      <td>169472800</td>\n",
       "    </tr>\n",
       "    <tr>\n",
       "      <th>2024-12-01</th>\n",
       "      <td>219.389999</td>\n",
       "      <td>190.224197</td>\n",
       "      <td>238.478348</td>\n",
       "      <td>13.050000</td>\n",
       "      <td>233.000000</td>\n",
       "      <td>202.650103</td>\n",
       "      <td>248.964185</td>\n",
       "      <td>14.080000</td>\n",
       "      <td>209.509995</td>\n",
       "      <td>170.077056</td>\n",
       "      <td>228.350646</td>\n",
       "      <td>12.120000</td>\n",
       "      <td>209.960007</td>\n",
       "      <td>170.127002</td>\n",
       "      <td>248.267785</td>\n",
       "      <td>12.270000</td>\n",
       "      <td>760891000</td>\n",
       "      <td>447499100</td>\n",
       "      <td>181266200</td>\n",
       "      <td>197801000</td>\n",
       "    </tr>\n",
       "    <tr>\n",
       "      <th>2025-01-01</th>\n",
       "      <td>237.679993</td>\n",
       "      <td>205.600006</td>\n",
       "      <td>265.926575</td>\n",
       "      <td>13.130000</td>\n",
       "      <td>241.770004</td>\n",
       "      <td>207.080002</td>\n",
       "      <td>269.428508</td>\n",
       "      <td>13.710000</td>\n",
       "      <td>216.199997</td>\n",
       "      <td>188.660004</td>\n",
       "      <td>237.513336</td>\n",
       "      <td>12.220000</td>\n",
       "      <td>222.029999</td>\n",
       "      <td>191.485001</td>\n",
       "      <td>239.682128</td>\n",
       "      <td>12.960000</td>\n",
       "      <td>652629200</td>\n",
       "      <td>324475100</td>\n",
       "      <td>209829300</td>\n",
       "      <td>182666200</td>\n",
       "    </tr>\n",
       "    <tr>\n",
       "      <th>2025-02-01</th>\n",
       "      <td>214.350006</td>\n",
       "      <td>174.699997</td>\n",
       "      <td>258.790009</td>\n",
       "      <td>13.290000</td>\n",
       "      <td>242.520004</td>\n",
       "      <td>208.699997</td>\n",
       "      <td>280.250000</td>\n",
       "      <td>14.280000</td>\n",
       "      <td>204.160004</td>\n",
       "      <td>173.589996</td>\n",
       "      <td>253.350006</td>\n",
       "      <td>12.390000</td>\n",
       "      <td>234.059998</td>\n",
       "      <td>202.214996</td>\n",
       "      <td>261.829987</td>\n",
       "      <td>12.520000</td>\n",
       "      <td>690758883</td>\n",
       "      <td>339275541</td>\n",
       "      <td>136924095</td>\n",
       "      <td>209730571</td>\n",
       "    </tr>\n",
       "  </tbody>\n",
       "</table>\n",
       "</div>"
      ],
      "text/plain": [
       "Price            Close                                           High  \\\n",
       "Ticker            AMZN        GOOG         JPM       STLA        AMZN   \n",
       "Date                                                                    \n",
       "2023-12-01  151.940002  140.425430  165.279251  21.825058  155.630005   \n",
       "2024-01-01  155.199997  141.292328  169.418518  20.552240  161.729996   \n",
       "2024-02-01  176.759995  139.279556  181.901718  24.576588  177.220001   \n",
       "2024-03-01  180.380005  151.714874  195.823486  26.485811  181.699997   \n",
       "2024-04-01  175.000000  164.050552  187.454788  20.870445  189.770004   \n",
       "2024-05-01  176.440002  173.337189  199.256943  22.270000  191.699997   \n",
       "2024-06-01  193.250000  182.763306  198.893097  19.850000  199.839996   \n",
       "2024-07-01  186.979996  172.726410  209.257660  16.690001  201.199997   \n",
       "2024-08-01  178.500000  164.706085  222.282806  16.780001  190.600006   \n",
       "2024-09-01  186.330002  166.781006  208.498901  14.050000  195.369995   \n",
       "2024-10-01  186.399994  172.494308  219.435059  13.620000  195.610001   \n",
       "2024-11-01  207.889999  170.296799  248.436920  13.200000  215.899994   \n",
       "2024-12-01  219.389999  190.224197  238.478348  13.050000  233.000000   \n",
       "2025-01-01  237.679993  205.600006  265.926575  13.130000  241.770004   \n",
       "2025-02-01  214.350006  174.699997  258.790009  13.290000  242.520004   \n",
       "\n",
       "Price                                                 Low              \\\n",
       "Ticker            GOOG         JPM       STLA        AMZN        GOOG   \n",
       "Date                                                                    \n",
       "2023-12-01  143.429650  165.852527  22.143262  142.809998  128.936712   \n",
       "2024-01-01  154.644347  173.246858  21.750186  144.050003  136.360053   \n",
       "2024-02-01  150.155487  182.263444  25.016457  155.619995  136.150799   \n",
       "2024-03-01  152.651511  196.234098  27.618244  171.470001  131.079029   \n",
       "2024-04-01  175.788376  196.449173  26.663632  166.320007  150.540091   \n",
       "2024-05-01  179.305733  202.452842  23.370001  173.869995  164.309613   \n",
       "2024-06-01  186.828700  199.227449  22.219999  175.919998  171.832580   \n",
       "2024-07-01  192.837095  213.938418  21.049999  176.800003  165.459243   \n",
       "2024-08-01  175.250219  222.955185  16.920000  151.610001  156.216909   \n",
       "2024-09-01  166.950588  221.590652  16.379999  171.160004  147.837456   \n",
       "2024-10-01  183.581721  224.210977  13.920000  180.250000  160.937412   \n",
       "2024-11-01  183.816449  253.003333  14.230000  194.309998  165.122661   \n",
       "2024-12-01  202.650103  248.964185  14.080000  209.509995  170.077056   \n",
       "2025-01-01  207.080002  269.428508  13.710000  216.199997  188.660004   \n",
       "2025-02-01  208.699997  280.250000  14.280000  204.160004  173.589996   \n",
       "\n",
       "Price                                    Open                          \\\n",
       "Ticker             JPM       STLA        AMZN        GOOG         JPM   \n",
       "Date                                                                    \n",
       "2023-12-01  151.403958  20.299551  146.000000  132.842690  151.403958   \n",
       "2024-01-01  159.643628  19.541474  151.539993  139.100207  164.297869   \n",
       "2024-02-01  167.598681  20.917241  155.869995  143.175561  169.759296   \n",
       "2024-03-01  180.151743  24.604665  176.750000  139.110170  181.549777   \n",
       "2024-04-01  175.195038  20.645831  180.789993  151.286417  195.520408   \n",
       "2024-05-01  185.322824  21.129999  181.639999  165.585029  189.069399   \n",
       "2024-06-01  187.702543  19.590000  177.699997  173.257468  198.942268   \n",
       "2024-07-01  198.735779  16.570000  193.490005  184.028695  199.463451   \n",
       "2024-08-01  188.762392  15.120000  189.289993  171.559274  210.812691   \n",
       "2024-09-01  198.363675  13.760000  177.550003  162.915485  219.810805   \n",
       "2024-10-01  202.051908  12.740000  184.899994  168.668647  206.560845   \n",
       "2024-11-01  218.043885  12.580000  199.000000  171.345597  222.411329   \n",
       "2024-12-01  228.350646  12.120000  209.960007  170.127002  248.267785   \n",
       "2025-01-01  237.513336  12.220000  222.029999  191.485001  239.682128   \n",
       "2025-02-01  253.350006  12.390000  234.059998  202.214996  261.829987   \n",
       "\n",
       "Price                      Volume                                   \n",
       "Ticker           STLA        AMZN       GOOG        JPM       STLA  \n",
       "Date                                                                \n",
       "2023-12-01  20.365063   931128600  482059400  184754800   94317800  \n",
       "2024-01-01  21.628520   953344900  428771200  231646400  104166200  \n",
       "2024-02-01  21.020188  1045061200  475231400  154730300  130091300  \n",
       "2024-03-01  24.632741   701928900  507013200  166241400  101639500  \n",
       "2024-04-01  26.485812   917021100  486888300  224706700  123582300  \n",
       "2024-05-01  22.610001   892301700  391987600  195900200  148341400  \n",
       "2024-06-01  22.160000   813276000  351403100  174902100  111318300  \n",
       "2024-07-01  20.160000   868061100  354565500  197445800  173728500  \n",
       "2024-08-01  16.620001   971023900  389619100  172435900  157242100  \n",
       "2024-09-01  16.350000   765028800  389120500  206489000  215484500  \n",
       "2024-10-01  13.900000   733878800  381759000  178337400  180518100  \n",
       "2024-11-01  13.770000   905937900  360654000  188852500  169472800  \n",
       "2024-12-01  12.270000   760891000  447499100  181266200  197801000  \n",
       "2025-01-01  12.960000   652629200  324475100  209829300  182666200  \n",
       "2025-02-01  12.520000   690758883  339275541  136924095  209730571  "
      ]
     },
     "execution_count": 29,
     "metadata": {},
     "output_type": "execute_result"
    }
   ],
   "source": [
    "dat"
   ]
  },
  {
   "cell_type": "code",
   "execution_count": 31,
   "metadata": {},
   "outputs": [
    {
     "data": {
      "text/html": [
       "<div>\n",
       "<style scoped>\n",
       "    .dataframe tbody tr th:only-of-type {\n",
       "        vertical-align: middle;\n",
       "    }\n",
       "\n",
       "    .dataframe tbody tr th {\n",
       "        vertical-align: top;\n",
       "    }\n",
       "\n",
       "    .dataframe thead th {\n",
       "        text-align: right;\n",
       "    }\n",
       "</style>\n",
       "<table border=\"1\" class=\"dataframe\">\n",
       "  <thead>\n",
       "    <tr style=\"text-align: right;\">\n",
       "      <th>Ticker</th>\n",
       "      <th>AMZN</th>\n",
       "      <th>GOOG</th>\n",
       "      <th>JPM</th>\n",
       "      <th>STLA</th>\n",
       "    </tr>\n",
       "    <tr>\n",
       "      <th>Date</th>\n",
       "      <th></th>\n",
       "      <th></th>\n",
       "      <th></th>\n",
       "      <th></th>\n",
       "    </tr>\n",
       "  </thead>\n",
       "  <tbody>\n",
       "    <tr>\n",
       "      <th>2023-12-01</th>\n",
       "      <td>151.940002</td>\n",
       "      <td>140.425430</td>\n",
       "      <td>165.279251</td>\n",
       "      <td>21.825058</td>\n",
       "    </tr>\n",
       "    <tr>\n",
       "      <th>2024-01-01</th>\n",
       "      <td>155.199997</td>\n",
       "      <td>141.292328</td>\n",
       "      <td>169.418503</td>\n",
       "      <td>20.552240</td>\n",
       "    </tr>\n",
       "    <tr>\n",
       "      <th>2024-02-01</th>\n",
       "      <td>176.759995</td>\n",
       "      <td>139.279556</td>\n",
       "      <td>181.901718</td>\n",
       "      <td>24.576588</td>\n",
       "    </tr>\n",
       "    <tr>\n",
       "      <th>2024-03-01</th>\n",
       "      <td>180.380005</td>\n",
       "      <td>151.714874</td>\n",
       "      <td>195.823471</td>\n",
       "      <td>26.485811</td>\n",
       "    </tr>\n",
       "    <tr>\n",
       "      <th>2024-04-01</th>\n",
       "      <td>175.000000</td>\n",
       "      <td>164.050552</td>\n",
       "      <td>187.454788</td>\n",
       "      <td>20.870445</td>\n",
       "    </tr>\n",
       "    <tr>\n",
       "      <th>2024-05-01</th>\n",
       "      <td>176.440002</td>\n",
       "      <td>173.337189</td>\n",
       "      <td>199.256958</td>\n",
       "      <td>22.270000</td>\n",
       "    </tr>\n",
       "    <tr>\n",
       "      <th>2024-06-01</th>\n",
       "      <td>193.250000</td>\n",
       "      <td>182.763306</td>\n",
       "      <td>198.893112</td>\n",
       "      <td>19.850000</td>\n",
       "    </tr>\n",
       "    <tr>\n",
       "      <th>2024-07-01</th>\n",
       "      <td>186.979996</td>\n",
       "      <td>172.726410</td>\n",
       "      <td>209.257660</td>\n",
       "      <td>16.690001</td>\n",
       "    </tr>\n",
       "    <tr>\n",
       "      <th>2024-08-01</th>\n",
       "      <td>178.500000</td>\n",
       "      <td>164.706085</td>\n",
       "      <td>222.282806</td>\n",
       "      <td>16.780001</td>\n",
       "    </tr>\n",
       "    <tr>\n",
       "      <th>2024-09-01</th>\n",
       "      <td>186.330002</td>\n",
       "      <td>166.781006</td>\n",
       "      <td>208.498886</td>\n",
       "      <td>14.050000</td>\n",
       "    </tr>\n",
       "    <tr>\n",
       "      <th>2024-10-01</th>\n",
       "      <td>186.399994</td>\n",
       "      <td>172.494308</td>\n",
       "      <td>219.435043</td>\n",
       "      <td>13.620000</td>\n",
       "    </tr>\n",
       "    <tr>\n",
       "      <th>2024-11-01</th>\n",
       "      <td>207.889999</td>\n",
       "      <td>170.296799</td>\n",
       "      <td>248.436920</td>\n",
       "      <td>13.200000</td>\n",
       "    </tr>\n",
       "    <tr>\n",
       "      <th>2024-12-01</th>\n",
       "      <td>219.389999</td>\n",
       "      <td>190.224197</td>\n",
       "      <td>238.478348</td>\n",
       "      <td>13.050000</td>\n",
       "    </tr>\n",
       "    <tr>\n",
       "      <th>2025-01-01</th>\n",
       "      <td>237.679993</td>\n",
       "      <td>205.600006</td>\n",
       "      <td>265.926575</td>\n",
       "      <td>13.130000</td>\n",
       "    </tr>\n",
       "    <tr>\n",
       "      <th>2025-02-01</th>\n",
       "      <td>214.350006</td>\n",
       "      <td>174.699997</td>\n",
       "      <td>258.790009</td>\n",
       "      <td>13.290000</td>\n",
       "    </tr>\n",
       "  </tbody>\n",
       "</table>\n",
       "</div>"
      ],
      "text/plain": [
       "Ticker            AMZN        GOOG         JPM       STLA\n",
       "Date                                                     \n",
       "2023-12-01  151.940002  140.425430  165.279251  21.825058\n",
       "2024-01-01  155.199997  141.292328  169.418503  20.552240\n",
       "2024-02-01  176.759995  139.279556  181.901718  24.576588\n",
       "2024-03-01  180.380005  151.714874  195.823471  26.485811\n",
       "2024-04-01  175.000000  164.050552  187.454788  20.870445\n",
       "2024-05-01  176.440002  173.337189  199.256958  22.270000\n",
       "2024-06-01  193.250000  182.763306  198.893112  19.850000\n",
       "2024-07-01  186.979996  172.726410  209.257660  16.690001\n",
       "2024-08-01  178.500000  164.706085  222.282806  16.780001\n",
       "2024-09-01  186.330002  166.781006  208.498886  14.050000\n",
       "2024-10-01  186.399994  172.494308  219.435043  13.620000\n",
       "2024-11-01  207.889999  170.296799  248.436920  13.200000\n",
       "2024-12-01  219.389999  190.224197  238.478348  13.050000\n",
       "2025-01-01  237.679993  205.600006  265.926575  13.130000\n",
       "2025-02-01  214.350006  174.699997  258.790009  13.290000"
      ]
     },
     "execution_count": 31,
     "metadata": {},
     "output_type": "execute_result"
    }
   ],
   "source": [
    "dat"
   ]
  },
  {
   "cell_type": "code",
   "execution_count": null,
   "metadata": {},
   "outputs": [],
   "source": []
  }
 ],
 "metadata": {
  "kernelspec": {
   "display_name": "portf_analyz_env",
   "language": "python",
   "name": "python3"
  },
  "language_info": {
   "codemirror_mode": {
    "name": "ipython",
    "version": 3
   },
   "file_extension": ".py",
   "mimetype": "text/x-python",
   "name": "python",
   "nbconvert_exporter": "python",
   "pygments_lexer": "ipython3",
   "version": "3.12.3"
  }
 },
 "nbformat": 4,
 "nbformat_minor": 2
}
