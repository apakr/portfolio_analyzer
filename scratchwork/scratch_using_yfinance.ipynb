{
 "cells": [
  {
   "cell_type": "code",
   "execution_count": 101,
   "metadata": {},
   "outputs": [],
   "source": [
    "import pandas as pd\n",
    "import yfinance as yf\n",
    "import numpy as np \n",
    "from scipy.stats import gmean"
   ]
  },
  {
   "cell_type": "code",
   "execution_count": 88,
   "metadata": {},
   "outputs": [
    {
     "data": {
      "text/html": [
       "<div>\n",
       "<style scoped>\n",
       "    .dataframe tbody tr th:only-of-type {\n",
       "        vertical-align: middle;\n",
       "    }\n",
       "\n",
       "    .dataframe tbody tr th {\n",
       "        vertical-align: top;\n",
       "    }\n",
       "\n",
       "    .dataframe thead th {\n",
       "        text-align: right;\n",
       "    }\n",
       "</style>\n",
       "<table border=\"1\" class=\"dataframe\">\n",
       "  <thead>\n",
       "    <tr style=\"text-align: right;\">\n",
       "      <th></th>\n",
       "      <th>TICKER</th>\n",
       "      <th>QUANTITY</th>\n",
       "    </tr>\n",
       "  </thead>\n",
       "  <tbody>\n",
       "    <tr>\n",
       "      <th>30</th>\n",
       "      <td>VICI</td>\n",
       "      <td>112.0</td>\n",
       "    </tr>\n",
       "    <tr>\n",
       "      <th>31</th>\n",
       "      <td>VIS</td>\n",
       "      <td>15.0</td>\n",
       "    </tr>\n",
       "    <tr>\n",
       "      <th>32</th>\n",
       "      <td>VOX</td>\n",
       "      <td>87.0</td>\n",
       "    </tr>\n",
       "    <tr>\n",
       "      <th>33</th>\n",
       "      <td>VPU</td>\n",
       "      <td>19.0</td>\n",
       "    </tr>\n",
       "    <tr>\n",
       "      <th>34</th>\n",
       "      <td>YUM</td>\n",
       "      <td>9.0</td>\n",
       "    </tr>\n",
       "  </tbody>\n",
       "</table>\n",
       "</div>"
      ],
      "text/plain": [
       "   TICKER  QUANTITY\n",
       "30   VICI     112.0\n",
       "31    VIS      15.0\n",
       "32    VOX      87.0\n",
       "33    VPU      19.0\n",
       "34    YUM       9.0"
      ]
     },
     "execution_count": 88,
     "metadata": {},
     "output_type": "execute_result"
    }
   ],
   "source": [
    "portf = pd.read_csv(\"fin456_portfolio_holdings_t1.csv\")\n",
    "\n",
    "cash_row = portf[portf['TICKER'] == 'USD']\n",
    "portf = portf[portf['TICKER'] != 'USD']\n",
    "\n",
    "portf.tail()"
   ]
  },
  {
   "cell_type": "code",
   "execution_count": 89,
   "metadata": {},
   "outputs": [
    {
     "name": "stderr",
     "output_type": "stream",
     "text": [
      "[*********************100%***********************]  35 of 35 completed\n"
     ]
    }
   ],
   "source": [
    "# Fetch data for the tickers in the portfolio\n",
    "tickers = portf['TICKER'].tolist()\n",
    "data = yf.download(tickers, start=\"2019-01-01\", end=\"2024-01-01\", interval=\"1mo\")['Adj Close']\n",
    "\n",
    "# Calculate monthly returns\n",
    "returns = data.pct_change().dropna()\n"
   ]
  },
  {
   "cell_type": "code",
   "execution_count": 90,
   "metadata": {},
   "outputs": [
    {
     "name": "stdout",
     "output_type": "stream",
     "text": [
      "   TICKER    Weight\n",
      "0    ADBE  0.025900\n",
      "1    ATKR  0.015166\n",
      "2     BBY  0.020808\n",
      "3     BLK  0.020617\n",
      "4     BRC  0.010075\n",
      "5    CPAY  0.024537\n",
      "6     CVI  0.007496\n",
      "7     CVX  0.007525\n",
      "8     FDX  0.019374\n",
      "9   GOOGL  0.037505\n",
      "10    JBL  0.017662\n",
      "11    JPM  0.021769\n",
      "12   LDOS  0.000929\n",
      "13    LMT  0.019294\n",
      "14    LOW  0.009481\n",
      "15   LRCX  0.003930\n",
      "16    MCK  0.016022\n",
      "17    MET  0.024500\n",
      "18    MOH  0.018822\n",
      "19    MPC  0.006348\n",
      "20    OVV  0.007051\n",
      "21   SCHW  0.010595\n",
      "22    TEL  0.021679\n",
      "23    VAW  0.021093\n",
      "24    VCR  0.041951\n",
      "25    VDC  0.054858\n",
      "26    VDE  0.007885\n",
      "27    VFH  0.050276\n",
      "28    VGT  0.150241\n",
      "29    VHT  0.096543\n",
      "30   VICI  0.029333\n",
      "31    VIS  0.028324\n",
      "32    VOX  0.087956\n",
      "33    VPU  0.021870\n",
      "34    YUM  0.010059\n",
      "Cash Weight: 3.25%\n"
     ]
    }
   ],
   "source": [
    "# Calculate total investment in each stock\n",
    "current_prices = data.iloc[-1]  # Last row gives the latest prices\n",
    "portf['Investment'] = portf['QUANTITY'] * current_prices.values\n",
    "\n",
    "# Add the cash row back for total investment\n",
    "total_investment = portf['Investment'].sum() + cash_row['QUANTITY'].iloc[0]\n",
    "\n",
    "# Calculate weights\n",
    "portf['Weight'] = portf['Investment'] / total_investment\n",
    "\n",
    "print(portf[['TICKER', 'Weight']])\n",
    "\n",
    "# Add a weight of cash (cash has zero returns)\n",
    "cash_weight = cash_row['QUANTITY'].iloc[0] / total_investment\n",
    "print(f\"Cash Weight: {cash_weight:.2%}\")"
   ]
  },
  {
   "cell_type": "code",
   "execution_count": 92,
   "metadata": {},
   "outputs": [],
   "source": [
    "# Calculate weighted monthly returns for the portfolio\n",
    "weighted_returns = (returns * portf.set_index('TICKER')['Weight']).sum(axis=1)\n",
    "\n",
    "# Adjust weighted returns to include cash (cash return is zero)\n",
    "weighted_returns = weighted_returns * (1 - cash_weight)\n",
    "\n",
    "\n"
   ]
  },
  {
   "cell_type": "code",
   "execution_count": 97,
   "metadata": {},
   "outputs": [
    {
     "data": {
      "text/plain": [
       "Date\n",
       "2019-02-01 00:00:00+00:00    0.033828\n",
       "2019-03-01 00:00:00+00:00    0.007238\n",
       "2019-04-01 00:00:00+00:00    0.052353\n",
       "2019-05-01 00:00:00+00:00   -0.062471\n",
       "2019-06-01 00:00:00+00:00    0.066234\n",
       "dtype: float64"
      ]
     },
     "execution_count": 97,
     "metadata": {},
     "output_type": "execute_result"
    }
   ],
   "source": [
    "weighted_returns.head()"
   ]
  },
  {
   "cell_type": "code",
   "execution_count": 96,
   "metadata": {},
   "outputs": [
    {
     "data": {
      "text/plain": [
       "pandas.core.series.Series"
      ]
     },
     "execution_count": 96,
     "metadata": {},
     "output_type": "execute_result"
    }
   ],
   "source": [
    "type(weighted_returns)"
   ]
  },
  {
   "cell_type": "code",
   "execution_count": 99,
   "metadata": {},
   "outputs": [
    {
     "data": {
      "text/plain": [
       "[0.0338284448966324,\n",
       " 0.0072379838818098004,\n",
       " 0.0523530704342907,\n",
       " -0.062471313409919044,\n",
       " 0.06623384855374803,\n",
       " 0.021201032671907098,\n",
       " -0.02346902278805077,\n",
       " 0.017272688664499047,\n",
       " 0.02559412680174419,\n",
       " 0.04773478104168551,\n",
       " 0.021529171164478483,\n",
       " 0.003847079710475537,\n",
       " -0.07948628939132078,\n",
       " -0.1455739458041799,\n",
       " 0.1465312366337217,\n",
       " 0.056200960728432066,\n",
       " 0.01806169827390214,\n",
       " 0.055713256169008664,\n",
       " 0.05905191666206948,\n",
       " -0.03489950292570241,\n",
       " -0.007174074245142173,\n",
       " 0.13143572384771166,\n",
       " 0.0331046288160363,\n",
       " -0.0027378136930303124,\n",
       " 0.05604877622385923,\n",
       " 0.040914340423981045,\n",
       " 0.05196642017956226,\n",
       " 0.009919015385461643,\n",
       " 0.011726107087764911,\n",
       " 0.01769600414686912,\n",
       " 0.030029477036874183,\n",
       " -0.045775802993864294,\n",
       " 0.06071133270113996,\n",
       " -0.02243273280273715,\n",
       " 0.04347832096049738,\n",
       " -0.03876298266941546,\n",
       " -0.022129617017320885,\n",
       " 0.025609745984081975,\n",
       " -0.07262966515655382,\n",
       " 0.01746708271187878,\n",
       " -0.08048223062633152,\n",
       " 0.0849796006688954,\n",
       " -0.032492498489046354,\n",
       " -0.09482243789547905,\n",
       " 0.09308774275781068,\n",
       " 0.06007222848270255,\n",
       " -0.05291612250625712,\n",
       " 0.06928823027422687,\n",
       " -0.02286253666668136,\n",
       " 0.019434554088942048,\n",
       " 0.01000531050369477,\n",
       " -0.0010439442888513894,\n",
       " 0.07230482163975853,\n",
       " 0.04343902753794314,\n",
       " -0.017544365395950657,\n",
       " -0.03709547423771059,\n",
       " -0.025792763645514482,\n",
       " 0.07798176332798291,\n",
       " 0.05105693387142724]"
      ]
     },
     "execution_count": 99,
     "metadata": {},
     "output_type": "execute_result"
    }
   ],
   "source": [
    "weighted_returns.tolist()"
   ]
  },
  {
   "cell_type": "code",
   "execution_count": 100,
   "metadata": {},
   "outputs": [
    {
     "data": {
      "text/plain": [
       "array([ 0.03382844,  0.00723798,  0.05235307, -0.06247131,  0.06623385,\n",
       "        0.02120103, -0.02346902,  0.01727269,  0.02559413,  0.04773478,\n",
       "        0.02152917,  0.00384708, -0.07948629, -0.14557395,  0.14653124,\n",
       "        0.05620096,  0.0180617 ,  0.05571326,  0.05905192, -0.0348995 ,\n",
       "       -0.00717407,  0.13143572,  0.03310463, -0.00273781,  0.05604878,\n",
       "        0.04091434,  0.05196642,  0.00991902,  0.01172611,  0.017696  ,\n",
       "        0.03002948, -0.0457758 ,  0.06071133, -0.02243273,  0.04347832,\n",
       "       -0.03876298, -0.02212962,  0.02560975, -0.07262967,  0.01746708,\n",
       "       -0.08048223,  0.0849796 , -0.0324925 , -0.09482244,  0.09308774,\n",
       "        0.06007223, -0.05291612,  0.06928823, -0.02286254,  0.01943455,\n",
       "        0.01000531, -0.00104394,  0.07230482,  0.04343903, -0.01754437,\n",
       "       -0.03709547, -0.02579276,  0.07798176,  0.05105693])"
      ]
     },
     "execution_count": 100,
     "metadata": {},
     "output_type": "execute_result"
    }
   ],
   "source": [
    "weighted_returns.to_numpy()"
   ]
  },
  {
   "cell_type": "code",
   "execution_count": 106,
   "metadata": {},
   "outputs": [
    {
     "data": {
      "text/plain": [
       "59"
      ]
     },
     "execution_count": 106,
     "metadata": {},
     "output_type": "execute_result"
    }
   ],
   "source": [
    "weighted_returns.size"
   ]
  },
  {
   "cell_type": "code",
   "execution_count": 114,
   "metadata": {},
   "outputs": [
    {
     "data": {
      "text/plain": [
       "np.float64(0.012461203764613016)"
      ]
     },
     "execution_count": 114,
     "metadata": {},
     "output_type": "execute_result"
    }
   ],
   "source": [
    "(1+weighted_returns).prod()**(1/59) - 1 # geometric monthly mean"
   ]
  },
  {
   "cell_type": "code",
   "execution_count": 119,
   "metadata": {},
   "outputs": [
    {
     "data": {
      "text/plain": [
       "np.float64(0.1670955962640911)"
      ]
     },
     "execution_count": 119,
     "metadata": {},
     "output_type": "execute_result"
    }
   ],
   "source": [
    "weighted_returns.mean() * 12 # arithmetic annual mean"
   ]
  },
  {
   "cell_type": "code",
   "execution_count": 120,
   "metadata": {},
   "outputs": [
    {
     "data": {
      "text/plain": [
       "np.float64(0.16022090686374768)"
      ]
     },
     "execution_count": 120,
     "metadata": {},
     "output_type": "execute_result"
    }
   ],
   "source": [
    "(1+weighted_returns).prod()**(12/weighted_returns.size) - 1 # geometric annual mean - this is the correct one"
   ]
  },
  {
   "cell_type": "code",
   "execution_count": 116,
   "metadata": {},
   "outputs": [
    {
     "data": {
      "text/plain": [
       "np.float64(0.1495344451753562)"
      ]
     },
     "execution_count": 116,
     "metadata": {},
     "output_type": "execute_result"
    }
   ],
   "source": [
    "12 * ((1+weighted_returns).prod()**(1/59) - 1) # incorrect - doesn't account for compounding"
   ]
  },
  {
   "cell_type": "code",
   "execution_count": 117,
   "metadata": {},
   "outputs": [
    {
     "data": {
      "text/plain": [
       "np.float64(1.4019094766852057e-23)"
      ]
     },
     "execution_count": 117,
     "metadata": {},
     "output_type": "execute_result"
    }
   ],
   "source": [
    "((1+weighted_returns).prod()**(1/59) - 1)**12 # incorrect - not operating on it the proper way"
   ]
  },
  {
   "cell_type": "code",
   "execution_count": 111,
   "metadata": {},
   "outputs": [
    {
     "data": {
      "text/plain": [
       "np.float64(5.274455600829477e+18)"
      ]
     },
     "execution_count": 111,
     "metadata": {},
     "output_type": "execute_result"
    }
   ],
   "source": [
    "(1+weighted_returns).prod()**(weighted_returns.size)"
   ]
  },
  {
   "cell_type": "code",
   "execution_count": 103,
   "metadata": {},
   "outputs": [
    {
     "name": "stderr",
     "output_type": "stream",
     "text": [
      "/home/allen/Desktop/portfolio_analyzer/portfolio_analyzer/.venv/lib/python3.10/site-packages/scipy/stats/_stats_py.py:210: RuntimeWarning: invalid value encountered in log\n",
      "  log_a = np.log(a)\n"
     ]
    },
    {
     "data": {
      "text/plain": [
       "np.float64(nan)"
      ]
     },
     "execution_count": 103,
     "metadata": {},
     "output_type": "execute_result"
    }
   ],
   "source": [
    "gmean(weighted_returns, axis=None)"
   ]
  },
  {
   "cell_type": "code",
   "execution_count": 94,
   "metadata": {},
   "outputs": [
    {
     "data": {
      "text/plain": [
       "np.float64(0.1670955962640911)"
      ]
     },
     "execution_count": 94,
     "metadata": {},
     "output_type": "execute_result"
    }
   ],
   "source": [
    "# Expected annual return\n",
    "expected_return = weighted_returns.mean() * 12\n",
    "expected_return"
   ]
  },
  {
   "cell_type": "code",
   "execution_count": null,
   "metadata": {},
   "outputs": [],
   "source": [
    "\n",
    "print(f\"Expected Annual Return: {expected_return:.2%}\")\n",
    "\n",
    "# Portfolio variance and standard deviation (risk)\n",
    "portfolio_variance = np.dot(portf.set_index('TICKER')['Weight'].T, \n",
    "                            np.dot(returns.cov() * 12, \n",
    "                                   portf.set_index('TICKER')['Weight']))\n",
    "portfolio_variance *= (1 - cash_weight)**2  # Adjust for cash weight\n",
    "portfolio_std_dev = np.sqrt(portfolio_variance)\n",
    "print(f\"Portfolio Standard Deviation (Annualized): {portfolio_std_dev:.2%}\")"
   ]
  },
  {
   "cell_type": "code",
   "execution_count": 62,
   "metadata": {},
   "outputs": [
    {
     "name": "stderr",
     "output_type": "stream",
     "text": [
      "[*********************100%***********************]  1 of 1 completed\n"
     ]
    }
   ],
   "source": [
    "# Download S&P 500 (or another market index) data\n",
    "market_data = yf.download('^GSPC', start=\"2019-01-01\", end=\"2024-01-01\", interval=\"1mo\")['Adj Close']\n",
    "\n",
    "# Calculate market monthly returns\n",
    "market_returns = market_data.pct_change().dropna()\n"
   ]
  },
  {
   "cell_type": "code",
   "execution_count": null,
   "metadata": {},
   "outputs": [],
   "source": []
  },
  {
   "cell_type": "code",
   "execution_count": 63,
   "metadata": {},
   "outputs": [
    {
     "name": "stdout",
     "output_type": "stream",
     "text": [
      "After cleaning: 59 vs 59\n"
     ]
    }
   ],
   "source": [
    "# Align both series and drop NaNs\n",
    "aligned_portfolio_returns, aligned_market_returns = weighted_returns.align(market_returns, join='inner')\n",
    "\n",
    "# Ensure no missing values remain after alignment\n",
    "aligned_portfolio_returns = aligned_portfolio_returns.dropna()\n",
    "aligned_market_returns = aligned_market_returns.dropna()\n",
    "\n",
    "print(f\"After cleaning: {len(aligned_portfolio_returns)} vs {len(aligned_market_returns)}\")\n"
   ]
  },
  {
   "cell_type": "code",
   "execution_count": 64,
   "metadata": {},
   "outputs": [],
   "source": [
    "# Ensure aligned_market_returns is a Series\n",
    "if isinstance(aligned_market_returns, pd.DataFrame):\n",
    "    aligned_market_returns = aligned_market_returns.squeeze()  # Convert single-column DataFrame to Series\n"
   ]
  },
  {
   "cell_type": "code",
   "execution_count": 65,
   "metadata": {},
   "outputs": [
    {
     "name": "stdout",
     "output_type": "stream",
     "text": [
      "Portfolio Beta: 0.89\n"
     ]
    }
   ],
   "source": [
    "cov_matrix = np.cov(aligned_portfolio_returns, aligned_market_returns)\n",
    "\n",
    "# Calculate beta\n",
    "beta = cov_matrix[0, 1] / cov_matrix[1, 1]\n",
    "print(f\"Portfolio Beta: {beta:.2f}\")\n"
   ]
  },
  {
   "cell_type": "code",
   "execution_count": 66,
   "metadata": {},
   "outputs": [
    {
     "name": "stderr",
     "output_type": "stream",
     "text": [
      "[*********************100%***********************]  1 of 1 completed"
     ]
    },
    {
     "name": "stdout",
     "output_type": "stream",
     "text": [
      "Price                     Adj Close  Close   High    Low   Open Volume\n",
      "Ticker                         ^TNX   ^TNX   ^TNX   ^TNX   ^TNX   ^TNX\n",
      "Date                                                                  \n",
      "2023-08-01 00:00:00+00:00     4.093  4.093  4.362  3.957  4.001      0\n",
      "2023-09-01 00:00:00+00:00     4.573  4.573  4.688  4.060  4.097      0\n",
      "2023-10-01 00:00:00+00:00     4.875  4.875  4.997  4.532  4.631      0\n",
      "2023-11-01 00:00:00+00:00     4.352  4.352  4.903  4.253  4.893      0\n",
      "2023-12-01 00:00:00+00:00     3.866  3.866  4.348  3.785  4.320      0\n"
     ]
    },
    {
     "name": "stderr",
     "output_type": "stream",
     "text": [
      "\n"
     ]
    },
    {
     "data": {
      "text/plain": [
       "Ticker\n",
       "^TNX    0.03866\n",
       "Name: 2023-12-01 00:00:00+00:00, dtype: float64"
      ]
     },
     "execution_count": 66,
     "metadata": {},
     "output_type": "execute_result"
    }
   ],
   "source": [
    "# We need risk free frate for calculating the sharpe ratio, so we're just gonna use yfinance and fetch TNX. If you want perfectly accurate sharpe calculation you can use U.S. treasury data from the internet for that. 10-yr bonds.\n",
    "# Fetch 10-Year Treasury Yield (^TNX)\n",
    "risk_free_data = yf.download('^TNX', start=\"2019-01-01\", end=\"2024-01-01\", interval=\"1mo\")\n",
    "\n",
    "# Check the structure of risk_free_data\n",
    "print(risk_free_data.tail())  # Verify the last few rows of data\n",
    "\n",
    "# Ensure you get the last valid yield as a scalar\n",
    "risk_free_rate = risk_free_data['Adj Close'].dropna().iloc[-1] / 100  # Ensure single value and convert\n",
    "risk_free_rate\n"
   ]
  },
  {
   "cell_type": "code",
   "execution_count": 73,
   "metadata": {},
   "outputs": [
    {
     "data": {
      "text/plain": [
       "Ticker\n",
       "^TNX    0.638868\n",
       "Name: 2023-12-01 00:00:00+00:00, dtype: float64"
      ]
     },
     "execution_count": 73,
     "metadata": {},
     "output_type": "execute_result"
    }
   ],
   "source": [
    "# Sharpe Ratio\n",
    "sharpe_ratio = (expected_return - risk_free_rate)/portfolio_std_dev\n",
    "sharpe_ratio\n",
    "\n",
    "# Interpretation\n",
    "# Sharpe Ratio > 1: Good (your portfolio provides solid risk-adjusted returns).\n",
    "# Sharpe Ratio > 2: Very good.\n",
    "# Sharpe Ratio > 3: Excellent.\n",
    "# Sharpe Ratio < 1: Risk-adjusted returns are relatively low; may need to re-evaluate risk."
   ]
  },
  {
   "cell_type": "code",
   "execution_count": 78,
   "metadata": {},
   "outputs": [],
   "source": [
    "import numpy as np\n",
    "import pandas as pd"
   ]
  },
  {
   "cell_type": "code",
   "execution_count": 86,
   "metadata": {},
   "outputs": [
    {
     "data": {
      "text/plain": [
       "5    0\n",
       "5    2\n",
       "6    5\n",
       "5    6\n",
       "5    7\n",
       "dtype: int64"
      ]
     },
     "execution_count": 86,
     "metadata": {},
     "output_type": "execute_result"
    }
   ],
   "source": [
    "a_list = pd.Series([0,2,5,6,7], index=[5,5,6,5,5])\n",
    "a_list\n"
   ]
  },
  {
   "cell_type": "code",
   "execution_count": 85,
   "metadata": {},
   "outputs": [
    {
     "data": {
      "text/plain": [
       "np.float64(4.0)"
      ]
     },
     "execution_count": 85,
     "metadata": {},
     "output_type": "execute_result"
    }
   ],
   "source": [
    "a_list.mean()"
   ]
  },
  {
   "cell_type": "code",
   "execution_count": null,
   "metadata": {},
   "outputs": [],
   "source": []
  }
 ],
 "metadata": {
  "kernelspec": {
   "display_name": "pydata-book",
   "language": "python",
   "name": "python3"
  },
  "language_info": {
   "codemirror_mode": {
    "name": "ipython",
    "version": 3
   },
   "file_extension": ".py",
   "mimetype": "text/x-python",
   "name": "python",
   "nbconvert_exporter": "python",
   "pygments_lexer": "ipython3",
   "version": "3.10.10"
  }
 },
 "nbformat": 4,
 "nbformat_minor": 2
}
