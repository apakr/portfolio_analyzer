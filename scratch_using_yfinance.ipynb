{
 "cells": [
  {
   "cell_type": "code",
   "execution_count": 57,
   "metadata": {},
   "outputs": [],
   "source": [
    "import pandas as pd\n",
    "import yfinance as yf\n",
    "import numpy as np "
   ]
  },
  {
   "cell_type": "code",
   "execution_count": 58,
   "metadata": {},
   "outputs": [
    {
     "data": {
      "text/html": [
       "<div>\n",
       "<style scoped>\n",
       "    .dataframe tbody tr th:only-of-type {\n",
       "        vertical-align: middle;\n",
       "    }\n",
       "\n",
       "    .dataframe tbody tr th {\n",
       "        vertical-align: top;\n",
       "    }\n",
       "\n",
       "    .dataframe thead th {\n",
       "        text-align: right;\n",
       "    }\n",
       "</style>\n",
       "<table border=\"1\" class=\"dataframe\">\n",
       "  <thead>\n",
       "    <tr style=\"text-align: right;\">\n",
       "      <th></th>\n",
       "      <th>TICKER</th>\n",
       "      <th>QUANTITY</th>\n",
       "    </tr>\n",
       "  </thead>\n",
       "  <tbody>\n",
       "    <tr>\n",
       "      <th>32</th>\n",
       "      <td>VICI</td>\n",
       "      <td>112.0</td>\n",
       "    </tr>\n",
       "    <tr>\n",
       "      <th>33</th>\n",
       "      <td>VIS</td>\n",
       "      <td>15.0</td>\n",
       "    </tr>\n",
       "    <tr>\n",
       "      <th>34</th>\n",
       "      <td>VOX</td>\n",
       "      <td>87.0</td>\n",
       "    </tr>\n",
       "    <tr>\n",
       "      <th>35</th>\n",
       "      <td>VPU</td>\n",
       "      <td>19.0</td>\n",
       "    </tr>\n",
       "    <tr>\n",
       "      <th>36</th>\n",
       "      <td>YUM</td>\n",
       "      <td>17.0</td>\n",
       "    </tr>\n",
       "  </tbody>\n",
       "</table>\n",
       "</div>"
      ],
      "text/plain": [
       "   TICKER  QUANTITY\n",
       "32   VICI     112.0\n",
       "33    VIS      15.0\n",
       "34    VOX      87.0\n",
       "35    VPU      19.0\n",
       "36    YUM      17.0"
      ]
     },
     "execution_count": 58,
     "metadata": {},
     "output_type": "execute_result"
    }
   ],
   "source": [
    "portf = pd.read_csv(\"portfolio_holdings.csv\")\n",
    "\n",
    "cash_row = portf[portf['TICKER'] == 'USD']\n",
    "portf = portf[portf['TICKER'] != 'USD']\n",
    "\n",
    "portf.tail()"
   ]
  },
  {
   "cell_type": "code",
   "execution_count": 59,
   "metadata": {},
   "outputs": [
    {
     "name": "stderr",
     "output_type": "stream",
     "text": [
      "[*********************100%***********************]  37 of 37 completed\n"
     ]
    }
   ],
   "source": [
    "# Fetch data for the tickers in the portfolio\n",
    "tickers = portf['TICKER'].tolist()\n",
    "data = yf.download(tickers, start=\"2019-01-01\", end=\"2024-01-01\", interval=\"1mo\")['Adj Close']\n",
    "\n",
    "# Calculate monthly returns\n",
    "returns = data.pct_change().dropna()\n"
   ]
  },
  {
   "cell_type": "code",
   "execution_count": 60,
   "metadata": {},
   "outputs": [
    {
     "name": "stdout",
     "output_type": "stream",
     "text": [
      "   TICKER    Weight\n",
      "0    ADBE  0.023706\n",
      "1     ADM  0.012302\n",
      "2    ATKR  0.013882\n",
      "3     BBY  0.019046\n",
      "4     BLK  0.018871\n",
      "5     BRC  0.009222\n",
      "6    CPAY  0.022459\n",
      "7     CVI  0.006861\n",
      "8     CVX  0.006888\n",
      "9     DIS  0.003560\n",
      "10    FDX  0.017733\n",
      "11  GOOGL  0.034329\n",
      "12    JBL  0.016166\n",
      "13    JPM  0.019925\n",
      "14   LDOS  0.000850\n",
      "15    LMT  0.017660\n",
      "16   LRCX  0.003597\n",
      "17    MCK  0.014665\n",
      "18    MET  0.022425\n",
      "19    MOH  0.017228\n",
      "20    MPC  0.005811\n",
      "21    MYE  0.013374\n",
      "22    OVV  0.006454\n",
      "23   SCHW  0.009698\n",
      "24    TEL  0.019843\n",
      "25    VAW  0.019306\n",
      "26    VCR  0.038398\n",
      "27    VDC  0.042828\n",
      "28    VDE  0.007217\n",
      "29    VFH  0.046018\n",
      "30    VGT  0.137517\n",
      "31    VHT  0.088366\n",
      "32   VICI  0.026848\n",
      "33    VIS  0.025925\n",
      "34    VOX  0.080507\n",
      "35    VPU  0.020018\n",
      "36    YUM  0.017392\n",
      "Cash Weight: 9.31%\n"
     ]
    }
   ],
   "source": [
    "# Calculate total investment in each stock\n",
    "current_prices = data.iloc[-1]  # Last row gives the latest prices\n",
    "portf['Investment'] = portf['QUANTITY'] * current_prices.values\n",
    "\n",
    "# Add the cash row back for total investment\n",
    "total_investment = portf['Investment'].sum() + cash_row['QUANTITY'].iloc[0]\n",
    "\n",
    "# Calculate weights\n",
    "portf['Weight'] = portf['Investment'] / total_investment\n",
    "\n",
    "print(portf[['TICKER', 'Weight']])\n",
    "\n",
    "# Add a weight of cash (cash has zero returns)\n",
    "cash_weight = cash_row['QUANTITY'].iloc[0] / total_investment\n",
    "print(f\"Cash Weight: {cash_weight:.2%}\")"
   ]
  },
  {
   "cell_type": "code",
   "execution_count": 61,
   "metadata": {},
   "outputs": [
    {
     "name": "stdout",
     "output_type": "stream",
     "text": [
      "Expected Annual Return: 14.53%\n",
      "Portfolio Standard Deviation (Annualized): 16.69%\n"
     ]
    }
   ],
   "source": [
    "# Calculate weighted monthly returns for the portfolio\n",
    "weighted_returns = (returns * portf.set_index('TICKER')['Weight']).sum(axis=1)\n",
    "\n",
    "# Adjust weighted returns to include cash (cash return is zero)\n",
    "weighted_returns = weighted_returns * (1 - cash_weight)\n",
    "\n",
    "# Expected annual return\n",
    "expected_return = weighted_returns.mean() * 12\n",
    "print(f\"Expected Annual Return: {expected_return:.2%}\")\n",
    "\n",
    "# Portfolio variance and standard deviation (risk)\n",
    "portfolio_variance = np.dot(portf.set_index('TICKER')['Weight'].T, \n",
    "                            np.dot(returns.cov() * 12, \n",
    "                                   portf.set_index('TICKER')['Weight']))\n",
    "portfolio_variance *= (1 - cash_weight)**2  # Adjust for cash weight\n",
    "portfolio_std_dev = np.sqrt(portfolio_variance)\n",
    "print(f\"Portfolio Standard Deviation (Annualized): {portfolio_std_dev:.2%}\")\n"
   ]
  },
  {
   "cell_type": "code",
   "execution_count": 62,
   "metadata": {},
   "outputs": [
    {
     "name": "stderr",
     "output_type": "stream",
     "text": [
      "[*********************100%***********************]  1 of 1 completed\n"
     ]
    }
   ],
   "source": [
    "# Download S&P 500 (or another market index) data\n",
    "market_data = yf.download('^GSPC', start=\"2019-01-01\", end=\"2024-01-01\", interval=\"1mo\")['Adj Close']\n",
    "\n",
    "# Calculate market monthly returns\n",
    "market_returns = market_data.pct_change().dropna()\n"
   ]
  },
  {
   "cell_type": "code",
   "execution_count": null,
   "metadata": {},
   "outputs": [],
   "source": []
  },
  {
   "cell_type": "code",
   "execution_count": 63,
   "metadata": {},
   "outputs": [
    {
     "name": "stdout",
     "output_type": "stream",
     "text": [
      "After cleaning: 59 vs 59\n"
     ]
    }
   ],
   "source": [
    "# Align both series and drop NaNs\n",
    "aligned_portfolio_returns, aligned_market_returns = weighted_returns.align(market_returns, join='inner')\n",
    "\n",
    "# Ensure no missing values remain after alignment\n",
    "aligned_portfolio_returns = aligned_portfolio_returns.dropna()\n",
    "aligned_market_returns = aligned_market_returns.dropna()\n",
    "\n",
    "print(f\"After cleaning: {len(aligned_portfolio_returns)} vs {len(aligned_market_returns)}\")\n"
   ]
  },
  {
   "cell_type": "code",
   "execution_count": 64,
   "metadata": {},
   "outputs": [],
   "source": [
    "# Ensure aligned_market_returns is a Series\n",
    "if isinstance(aligned_market_returns, pd.DataFrame):\n",
    "    aligned_market_returns = aligned_market_returns.squeeze()  # Convert single-column DataFrame to Series\n"
   ]
  },
  {
   "cell_type": "code",
   "execution_count": 65,
   "metadata": {},
   "outputs": [
    {
     "name": "stdout",
     "output_type": "stream",
     "text": [
      "Portfolio Beta: 0.89\n"
     ]
    }
   ],
   "source": [
    "cov_matrix = np.cov(aligned_portfolio_returns, aligned_market_returns)\n",
    "\n",
    "# Calculate beta\n",
    "beta = cov_matrix[0, 1] / cov_matrix[1, 1]\n",
    "print(f\"Portfolio Beta: {beta:.2f}\")\n"
   ]
  },
  {
   "cell_type": "code",
   "execution_count": 66,
   "metadata": {},
   "outputs": [
    {
     "name": "stderr",
     "output_type": "stream",
     "text": [
      "[*********************100%***********************]  1 of 1 completed"
     ]
    },
    {
     "name": "stdout",
     "output_type": "stream",
     "text": [
      "Price                     Adj Close  Close   High    Low   Open Volume\n",
      "Ticker                         ^TNX   ^TNX   ^TNX   ^TNX   ^TNX   ^TNX\n",
      "Date                                                                  \n",
      "2023-08-01 00:00:00+00:00     4.093  4.093  4.362  3.957  4.001      0\n",
      "2023-09-01 00:00:00+00:00     4.573  4.573  4.688  4.060  4.097      0\n",
      "2023-10-01 00:00:00+00:00     4.875  4.875  4.997  4.532  4.631      0\n",
      "2023-11-01 00:00:00+00:00     4.352  4.352  4.903  4.253  4.893      0\n",
      "2023-12-01 00:00:00+00:00     3.866  3.866  4.348  3.785  4.320      0\n"
     ]
    },
    {
     "name": "stderr",
     "output_type": "stream",
     "text": [
      "\n"
     ]
    },
    {
     "data": {
      "text/plain": [
       "Ticker\n",
       "^TNX    0.03866\n",
       "Name: 2023-12-01 00:00:00+00:00, dtype: float64"
      ]
     },
     "execution_count": 66,
     "metadata": {},
     "output_type": "execute_result"
    }
   ],
   "source": [
    "# We need risk free frate for calculating the sharpe ratio, so we're just gonna use yfinance and fetch TNX. If you want perfectly accurate sharpe calculation you can use U.S. treasury data from the internet for that. 10-yr bonds.\n",
    "# Fetch 10-Year Treasury Yield (^TNX)\n",
    "risk_free_data = yf.download('^TNX', start=\"2019-01-01\", end=\"2024-01-01\", interval=\"1mo\")\n",
    "\n",
    "# Check the structure of risk_free_data\n",
    "print(risk_free_data.tail())  # Verify the last few rows of data\n",
    "\n",
    "# Ensure you get the last valid yield as a scalar\n",
    "risk_free_rate = risk_free_data['Adj Close'].dropna().iloc[-1] / 100  # Ensure single value and convert\n",
    "risk_free_rate\n"
   ]
  },
  {
   "cell_type": "code",
   "execution_count": 67,
   "metadata": {},
   "outputs": [
    {
     "data": {
      "text/plain": [
       "Ticker\n",
       "^TNX    0.638868\n",
       "Name: 2023-12-01 00:00:00+00:00, dtype: float64"
      ]
     },
     "execution_count": 67,
     "metadata": {},
     "output_type": "execute_result"
    }
   ],
   "source": [
    "# Sharpe Ratio\n",
    "sharpe_ratio = (expected_return - risk_free_rate)/portfolio_std_dev\n",
    "sharpe_ratio\n",
    "\n",
    "# Interpretation\n",
    "# Sharpe Ratio > 1: Good (your portfolio provides solid risk-adjusted returns).\n",
    "# Sharpe Ratio > 2: Very good.\n",
    "# Sharpe Ratio > 3: Excellent.\n",
    "# Sharpe Ratio < 1: Risk-adjusted returns are relatively low; may need to re-evaluate risk."
   ]
  }
 ],
 "metadata": {
  "kernelspec": {
   "display_name": ".venv",
   "language": "python",
   "name": "python3"
  },
  "language_info": {
   "codemirror_mode": {
    "name": "ipython",
    "version": 3
   },
   "file_extension": ".py",
   "mimetype": "text/x-python",
   "name": "python",
   "nbconvert_exporter": "python",
   "pygments_lexer": "ipython3",
   "version": "3.10.15"
  }
 },
 "nbformat": 4,
 "nbformat_minor": 2
}
